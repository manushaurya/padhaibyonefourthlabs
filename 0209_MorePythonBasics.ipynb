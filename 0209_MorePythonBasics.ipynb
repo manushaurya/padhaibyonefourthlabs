{
  "nbformat": 4,
  "nbformat_minor": 0,
  "metadata": {
    "colab": {
      "name": "0209_MorePythonBasics.ipynb",
      "version": "0.3.2",
      "provenance": [],
      "collapsed_sections": [],
      "include_colab_link": true
    },
    "kernelspec": {
      "name": "python3",
      "display_name": "Python 3"
    }
  },
  "cells": [
    {
      "cell_type": "markdown",
      "metadata": {
        "id": "view-in-github",
        "colab_type": "text"
      },
      "source": [
        "<a href=\"https://colab.research.google.com/github/manushaurya/padhaibyonefourthlabs/blob/master/0209_MorePythonBasics.ipynb\" target=\"_parent\"><img src=\"https://colab.research.google.com/assets/colab-badge.svg\" alt=\"Open In Colab\"/></a>"
      ]
    },
    {
      "metadata": {
        "id": "A7jftfsYk4Qo",
        "colab_type": "code",
        "colab": {}
      },
      "cell_type": "code",
      "source": [
        ""
      ],
      "execution_count": 0,
      "outputs": []
    },
    {
      "metadata": {
        "id": "47Xxz2XUld7S",
        "colab_type": "code",
        "outputId": "37296e96-b6ea-40de-d42c-712bfdf38d07",
        "colab": {
          "base_uri": "https://localhost:8080/",
          "height": 69
        }
      },
      "cell_type": "code",
      "source": [
        "# Install the PyDrive wrapper & import libraries.\n",
        "# This only needs to be done once in a notebook.\n",
        "!pip install -U -q PyDrive\n",
        "from pydrive.auth import GoogleAuth\n",
        "from pydrive.drive import GoogleDrive\n",
        "from google.colab import auth\n",
        "from oauth2client.client import GoogleCredentials\n",
        "\n",
        "# Authenticate and create the PyDrive client.\n",
        "# This only needs to be done once in a notebook.\n",
        "auth.authenticate_user()\n",
        "gauth = GoogleAuth()\n",
        "gauth.credentials = GoogleCredentials.get_application_default()\n",
        "drive = GoogleDrive(gauth)\n",
        "\n",
        "# Create & upload a text file.\n",
        "uploaded = drive.CreateFile({'title': 'Sample file.txt'})\n",
        "uploaded.SetContentString('Sample upload file content')\n",
        "uploaded.Upload()\n",
        "print('Uploaded file with ID {}'.format(uploaded.get('id')))"
      ],
      "execution_count": 0,
      "outputs": [
        {
          "output_type": "stream",
          "text": [
            "\u001b[?25l\r\u001b[K    1% |▎                               | 10kB 18.2MB/s eta 0:00:01\r\u001b[K    2% |▋                               | 20kB 3.1MB/s eta 0:00:01\r\u001b[K    3% |█                               | 30kB 4.5MB/s eta 0:00:01\r\u001b[K    4% |█▎                              | 40kB 3.0MB/s eta 0:00:01\r\u001b[K    5% |█▋                              | 51kB 3.7MB/s eta 0:00:01\r\u001b[K    6% |██                              | 61kB 4.3MB/s eta 0:00:01\r\u001b[K    7% |██▎                             | 71kB 4.9MB/s eta 0:00:01\r\u001b[K    8% |██▋                             | 81kB 5.6MB/s eta 0:00:01\r\u001b[K    9% |███                             | 92kB 6.2MB/s eta 0:00:01\r\u001b[K    10% |███▎                            | 102kB 4.9MB/s eta 0:00:01\r\u001b[K    11% |███▋                            | 112kB 4.9MB/s eta 0:00:01\r\u001b[K    12% |████                            | 122kB 6.7MB/s eta 0:00:01\r\u001b[K    13% |████▎                           | 133kB 6.8MB/s eta 0:00:01\r\u001b[K    14% |████▋                           | 143kB 11.9MB/s eta 0:00:01\r\u001b[K    15% |█████                           | 153kB 12.2MB/s eta 0:00:01\r\u001b[K    16% |█████▎                          | 163kB 12.3MB/s eta 0:00:01\r\u001b[K    17% |█████▋                          | 174kB 12.2MB/s eta 0:00:01\r\u001b[K    18% |██████                          | 184kB 12.3MB/s eta 0:00:01\r\u001b[K    19% |██████▎                         | 194kB 12.3MB/s eta 0:00:01\r\u001b[K    20% |██████▋                         | 204kB 39.1MB/s eta 0:00:01\r\u001b[K    21% |███████                         | 215kB 14.5MB/s eta 0:00:01\r\u001b[K    22% |███████▎                        | 225kB 14.5MB/s eta 0:00:01\r\u001b[K    23% |███████▋                        | 235kB 13.8MB/s eta 0:00:01\r\u001b[K    24% |████████                        | 245kB 13.7MB/s eta 0:00:01\r\u001b[K    25% |████████▎                       | 256kB 13.5MB/s eta 0:00:01\r\u001b[K    26% |████████▋                       | 266kB 12.9MB/s eta 0:00:01\r\u001b[K    27% |█████████                       | 276kB 13.3MB/s eta 0:00:01\r\u001b[K    29% |█████████▎                      | 286kB 13.3MB/s eta 0:00:01\r\u001b[K    30% |█████████▋                      | 296kB 13.3MB/s eta 0:00:01\r\u001b[K    31% |██████████                      | 307kB 13.5MB/s eta 0:00:01\r\u001b[K    32% |██████████▎                     | 317kB 36.7MB/s eta 0:00:01\r\u001b[K    33% |██████████▋                     | 327kB 37.3MB/s eta 0:00:01\r\u001b[K    34% |███████████                     | 337kB 45.1MB/s eta 0:00:01\r\u001b[K    35% |███████████▎                    | 348kB 42.1MB/s eta 0:00:01\r\u001b[K    36% |███████████▋                    | 358kB 43.1MB/s eta 0:00:01\r\u001b[K    37% |████████████                    | 368kB 50.6MB/s eta 0:00:01\r\u001b[K    38% |████████████▎                   | 378kB 50.4MB/s eta 0:00:01\r\u001b[K    39% |████████████▋                   | 389kB 50.9MB/s eta 0:00:01\r\u001b[K    40% |█████████████                   | 399kB 20.4MB/s eta 0:00:01\r\u001b[K    41% |█████████████▎                  | 409kB 20.0MB/s eta 0:00:01\r\u001b[K    42% |█████████████▋                  | 419kB 19.5MB/s eta 0:00:01\r\u001b[K    43% |██████████████                  | 430kB 19.4MB/s eta 0:00:01\r\u001b[K    44% |██████████████▎                 | 440kB 19.3MB/s eta 0:00:01\r\u001b[K    45% |██████████████▋                 | 450kB 19.4MB/s eta 0:00:01\r\u001b[K    46% |███████████████                 | 460kB 19.1MB/s eta 0:00:01\r\u001b[K    47% |███████████████▎                | 471kB 19.1MB/s eta 0:00:01\r\u001b[K    48% |███████████████▋                | 481kB 17.8MB/s eta 0:00:01\r\u001b[K    49% |████████████████                | 491kB 17.4MB/s eta 0:00:01\r\u001b[K    50% |████████████████▎               | 501kB 35.1MB/s eta 0:00:01\r\u001b[K    51% |████████████████▋               | 512kB 33.2MB/s eta 0:00:01\r\u001b[K    52% |█████████████████               | 522kB 34.0MB/s eta 0:00:01\r\u001b[K    53% |█████████████████▎              | 532kB 34.4MB/s eta 0:00:01\r\u001b[K    54% |█████████████████▋              | 542kB 33.8MB/s eta 0:00:01\r\u001b[K    55% |██████████████████              | 552kB 36.1MB/s eta 0:00:01\r\u001b[K    57% |██████████████████▎             | 563kB 36.5MB/s eta 0:00:01\r\u001b[K    58% |██████████████████▋             | 573kB 35.2MB/s eta 0:00:01\r\u001b[K    59% |███████████████████             | 583kB 40.8MB/s eta 0:00:01\r\u001b[K    60% |███████████████████▎            | 593kB 41.5MB/s eta 0:00:01\r\u001b[K    61% |███████████████████▋            | 604kB 41.0MB/s eta 0:00:01\r\u001b[K    62% |████████████████████            | 614kB 44.2MB/s eta 0:00:01\r\u001b[K    63% |████████████████████▎           | 624kB 43.9MB/s eta 0:00:01\r\u001b[K    64% |████████████████████▋           | 634kB 43.3MB/s eta 0:00:01\r\u001b[K    65% |█████████████████████           | 645kB 42.8MB/s eta 0:00:01\r\u001b[K    66% |█████████████████████▎          | 655kB 42.0MB/s eta 0:00:01\r\u001b[K    67% |█████████████████████▋          | 665kB 32.5MB/s eta 0:00:01\r\u001b[K    68% |██████████████████████          | 675kB 32.8MB/s eta 0:00:01\r\u001b[K    69% |██████████████████████▎         | 686kB 33.1MB/s eta 0:00:01\r\u001b[K    70% |██████████████████████▋         | 696kB 32.8MB/s eta 0:00:01\r\u001b[K    71% |███████████████████████         | 706kB 33.1MB/s eta 0:00:01\r\u001b[K    72% |███████████████████████▎        | 716kB 34.1MB/s eta 0:00:01\r\u001b[K    73% |███████████████████████▋        | 727kB 34.9MB/s eta 0:00:01\r\u001b[K    74% |████████████████████████        | 737kB 35.6MB/s eta 0:00:01\r\u001b[K    75% |████████████████████████▎       | 747kB 36.5MB/s eta 0:00:01\r\u001b[K    76% |████████████████████████▋       | 757kB 37.5MB/s eta 0:00:01\r\u001b[K    77% |████████████████████████▉       | 768kB 52.1MB/s eta 0:00:01\r\u001b[K    78% |█████████████████████████▏      | 778kB 53.8MB/s eta 0:00:01\r\u001b[K    79% |█████████████████████████▌      | 788kB 53.1MB/s eta 0:00:01\r\u001b[K    80% |█████████████████████████▉      | 798kB 55.4MB/s eta 0:00:01\r\u001b[K    81% |██████████████████████████▏     | 808kB 56.0MB/s eta 0:00:01\r\u001b[K    82% |██████████████████████████▌     | 819kB 54.7MB/s eta 0:00:01\r\u001b[K    83% |██████████████████████████▉     | 829kB 54.9MB/s eta 0:00:01\r\u001b[K    85% |███████████████████████████▏    | 839kB 55.1MB/s eta 0:00:01\r\u001b[K    86% |███████████████████████████▌    | 849kB 55.3MB/s eta 0:00:01\r\u001b[K    87% |███████████████████████████▉    | 860kB 47.8MB/s eta 0:00:01\r\u001b[K    88% |████████████████████████████▏   | 870kB 48.0MB/s eta 0:00:01\r\u001b[K    89% |████████████████████████████▌   | 880kB 48.9MB/s eta 0:00:01\r\u001b[K    90% |████████████████████████████▉   | 890kB 49.7MB/s eta 0:00:01\r\u001b[K    91% |█████████████████████████████▏  | 901kB 49.1MB/s eta 0:00:01\r\u001b[K    92% |█████████████████████████████▌  | 911kB 49.2MB/s eta 0:00:01\r\u001b[K    93% |█████████████████████████████▉  | 921kB 49.8MB/s eta 0:00:01\r\u001b[K    94% |██████████████████████████████▏ | 931kB 50.0MB/s eta 0:00:01\r\u001b[K    95% |██████████████████████████████▌ | 942kB 50.2MB/s eta 0:00:01\r\u001b[K    96% |██████████████████████████████▉ | 952kB 49.9MB/s eta 0:00:01\r\u001b[K    97% |███████████████████████████████▏| 962kB 58.4MB/s eta 0:00:01\r\u001b[K    98% |███████████████████████████████▌| 972kB 57.9MB/s eta 0:00:01\r\u001b[K    99% |███████████████████████████████▉| 983kB 56.6MB/s eta 0:00:01\r\u001b[K    100% |████████████████████████████████| 993kB 19.2MB/s \n",
            "\u001b[?25h  Building wheel for PyDrive (setup.py) ... \u001b[?25ldone\n",
            "\u001b[?25hUploaded file with ID 1bXmJurFZbtjixfxtkoE9FZAilq5OOOaI\n"
          ],
          "name": "stdout"
        }
      ]
    },
    {
      "metadata": {
        "id": "h9dV_XUHtRoK",
        "colab_type": "code",
        "colab": {}
      },
      "cell_type": "code",
      "source": [
        ""
      ],
      "execution_count": 0,
      "outputs": []
    },
    {
      "metadata": {
        "id": "QlWw1PIntTX3",
        "colab_type": "code",
        "outputId": "6970f5af-122d-42cc-a446-b36e0814b5f7",
        "colab": {
          "base_uri": "https://localhost:8080/",
          "height": 34
        }
      },
      "cell_type": "code",
      "source": [
        "# List .txt files in the root.\n",
        "#\n",
        "# Search query reference:\n",
        "# https://developers.google.com/drive/v2/web/search-parameters\n",
        "listed = drive.ListFile({'q': \"title contains '.csv' and 'root' in parents\"}).GetList()\n",
        "for file in listed:\n",
        "  print('title {}, id {}'.format(file['title'], file['id']))"
      ],
      "execution_count": 0,
      "outputs": [
        {
          "output_type": "stream",
          "text": [
            "title mobile_cleaned.csv, id 1QkgQpdhpJFk4cJ_a_VLezetAOn2Lg9oC\n"
          ],
          "name": "stdout"
        }
      ]
    },
    {
      "metadata": {
        "id": "XRNmb7CltYm6",
        "colab_type": "code",
        "colab": {}
      },
      "cell_type": "code",
      "source": [
        "# Download a file based on its file ID.\n",
        "#\n",
        "# A file ID looks like: laggVyWshwcyP6kEI-y_W3P8D26sz\n",
        "file_id = '1QkgQpdhpJFk4cJ_a_VLezetAOn2Lg9oC'\n",
        "downloaded = drive.CreateFile({'id': file_id})  #https://drive.google.com/open?id=1QkgQpdhpJFk4cJ_a_VLezetAOn2Lg9oC\n",
        "print('Downloaded content \"{}\"'.format(downloaded.GetContentString()))"
      ],
      "execution_count": 0,
      "outputs": []
    },
    {
      "metadata": {
        "id": "tZWGAED1uCdI",
        "colab_type": "code",
        "colab": {}
      },
      "cell_type": "code",
      "source": [
        "downloaded.GetContentFile('mobile_cleaned.csv')"
      ],
      "execution_count": 0,
      "outputs": []
    },
    {
      "metadata": {
        "id": "W_FLv_DuukUC",
        "colab_type": "code",
        "outputId": "63e021f2-c8a5-4337-8cff-98b17a0624ea",
        "colab": {
          "base_uri": "https://localhost:8080/",
          "height": 34
        }
      },
      "cell_type": "code",
      "source": [
        "!ls"
      ],
      "execution_count": 0,
      "outputs": [
        {
          "output_type": "stream",
          "text": [
            "adc.json  mobile_cleaned.csv  sample_data\n"
          ],
          "name": "stdout"
        }
      ]
    },
    {
      "metadata": {
        "id": "IeIUY1tYulxj",
        "colab_type": "code",
        "colab": {}
      },
      "cell_type": "code",
      "source": [
        "import pandas as pd\n",
        "df = pd.read_csv('mobile_cleaned.csv') #df for data frame and for excel file read_xls()"
      ],
      "execution_count": 0,
      "outputs": []
    },
    {
      "metadata": {
        "id": "a4RaAWpcu3Qi",
        "colab_type": "code",
        "outputId": "c1ad1b8d-6508-4cca-bee2-b5b8c7273894",
        "colab": {
          "base_uri": "https://localhost:8080/",
          "height": 256
        }
      },
      "cell_type": "code",
      "source": [
        "df.head()"
      ],
      "execution_count": 0,
      "outputs": [
        {
          "output_type": "execute_result",
          "data": {
            "text/html": [
              "<div>\n",
              "<style scoped>\n",
              "    .dataframe tbody tr th:only-of-type {\n",
              "        vertical-align: middle;\n",
              "    }\n",
              "\n",
              "    .dataframe tbody tr th {\n",
              "        vertical-align: top;\n",
              "    }\n",
              "\n",
              "    .dataframe thead th {\n",
              "        text-align: right;\n",
              "    }\n",
              "</style>\n",
              "<table border=\"1\" class=\"dataframe\">\n",
              "  <thead>\n",
              "    <tr style=\"text-align: right;\">\n",
              "      <th></th>\n",
              "      <th>sim_type</th>\n",
              "      <th>aperture</th>\n",
              "      <th>gpu_rank</th>\n",
              "      <th>weight</th>\n",
              "      <th>stand_by_time</th>\n",
              "      <th>processor_frequency</th>\n",
              "      <th>thickness</th>\n",
              "      <th>flash_type</th>\n",
              "      <th>front_camera_resolution</th>\n",
              "      <th>auto_focus</th>\n",
              "      <th>...</th>\n",
              "      <th>micro_sd_slot</th>\n",
              "      <th>screen_pixel_density</th>\n",
              "      <th>water_proof_rate</th>\n",
              "      <th>phone_width</th>\n",
              "      <th>expandable_memory</th>\n",
              "      <th>version</th>\n",
              "      <th>usb_type</th>\n",
              "      <th>battery_capacity</th>\n",
              "      <th>processor_rank</th>\n",
              "      <th>is_liked</th>\n",
              "    </tr>\n",
              "  </thead>\n",
              "  <tbody>\n",
              "    <tr>\n",
              "      <th>0</th>\n",
              "      <td>0</td>\n",
              "      <td>12</td>\n",
              "      <td>55</td>\n",
              "      <td>155.0</td>\n",
              "      <td>250</td>\n",
              "      <td>1.3</td>\n",
              "      <td>10.5</td>\n",
              "      <td>5</td>\n",
              "      <td>2.00</td>\n",
              "      <td>0</td>\n",
              "      <td>...</td>\n",
              "      <td>4</td>\n",
              "      <td>2</td>\n",
              "      <td>3</td>\n",
              "      <td>67.8</td>\n",
              "      <td>64.0</td>\n",
              "      <td>5</td>\n",
              "      <td>3</td>\n",
              "      <td>2000</td>\n",
              "      <td>125</td>\n",
              "      <td>1</td>\n",
              "    </tr>\n",
              "    <tr>\n",
              "      <th>1</th>\n",
              "      <td>0</td>\n",
              "      <td>1</td>\n",
              "      <td>55</td>\n",
              "      <td>132.0</td>\n",
              "      <td>300</td>\n",
              "      <td>1.3</td>\n",
              "      <td>10.6</td>\n",
              "      <td>5</td>\n",
              "      <td>0.30</td>\n",
              "      <td>1</td>\n",
              "      <td>...</td>\n",
              "      <td>4</td>\n",
              "      <td>4</td>\n",
              "      <td>6</td>\n",
              "      <td>64.0</td>\n",
              "      <td>32.0</td>\n",
              "      <td>5</td>\n",
              "      <td>3</td>\n",
              "      <td>2000</td>\n",
              "      <td>165</td>\n",
              "      <td>1</td>\n",
              "    </tr>\n",
              "    <tr>\n",
              "      <th>2</th>\n",
              "      <td>0</td>\n",
              "      <td>9</td>\n",
              "      <td>55</td>\n",
              "      <td>142.0</td>\n",
              "      <td>329</td>\n",
              "      <td>1.5</td>\n",
              "      <td>8.5</td>\n",
              "      <td>5</td>\n",
              "      <td>2.00</td>\n",
              "      <td>3</td>\n",
              "      <td>...</td>\n",
              "      <td>4</td>\n",
              "      <td>9</td>\n",
              "      <td>6</td>\n",
              "      <td>72.0</td>\n",
              "      <td>32.0</td>\n",
              "      <td>6</td>\n",
              "      <td>3</td>\n",
              "      <td>2500</td>\n",
              "      <td>164</td>\n",
              "      <td>0</td>\n",
              "    </tr>\n",
              "    <tr>\n",
              "      <th>3</th>\n",
              "      <td>0</td>\n",
              "      <td>8</td>\n",
              "      <td>55</td>\n",
              "      <td>152.0</td>\n",
              "      <td>385</td>\n",
              "      <td>1.3</td>\n",
              "      <td>8.0</td>\n",
              "      <td>5</td>\n",
              "      <td>2.00</td>\n",
              "      <td>3</td>\n",
              "      <td>...</td>\n",
              "      <td>4</td>\n",
              "      <td>1</td>\n",
              "      <td>3</td>\n",
              "      <td>75.1</td>\n",
              "      <td>32.0</td>\n",
              "      <td>6</td>\n",
              "      <td>3</td>\n",
              "      <td>3000</td>\n",
              "      <td>165</td>\n",
              "      <td>1</td>\n",
              "    </tr>\n",
              "    <tr>\n",
              "      <th>4</th>\n",
              "      <td>1</td>\n",
              "      <td>1</td>\n",
              "      <td>55</td>\n",
              "      <td>234.0</td>\n",
              "      <td>385</td>\n",
              "      <td>1.3</td>\n",
              "      <td>7.9</td>\n",
              "      <td>5</td>\n",
              "      <td>1.92</td>\n",
              "      <td>3</td>\n",
              "      <td>...</td>\n",
              "      <td>4</td>\n",
              "      <td>1</td>\n",
              "      <td>6</td>\n",
              "      <td>91.0</td>\n",
              "      <td>32.0</td>\n",
              "      <td>6</td>\n",
              "      <td>3</td>\n",
              "      <td>3000</td>\n",
              "      <td>165</td>\n",
              "      <td>0</td>\n",
              "    </tr>\n",
              "  </tbody>\n",
              "</table>\n",
              "<p>5 rows × 40 columns</p>\n",
              "</div>"
            ],
            "text/plain": [
              "   sim_type  aperture  gpu_rank  weight  stand_by_time  processor_frequency  \\\n",
              "0         0        12        55   155.0            250                  1.3   \n",
              "1         0         1        55   132.0            300                  1.3   \n",
              "2         0         9        55   142.0            329                  1.5   \n",
              "3         0         8        55   152.0            385                  1.3   \n",
              "4         1         1        55   234.0            385                  1.3   \n",
              "\n",
              "   thickness  flash_type  front_camera_resolution  auto_focus    ...     \\\n",
              "0       10.5           5                     2.00           0    ...      \n",
              "1       10.6           5                     0.30           1    ...      \n",
              "2        8.5           5                     2.00           3    ...      \n",
              "3        8.0           5                     2.00           3    ...      \n",
              "4        7.9           5                     1.92           3    ...      \n",
              "\n",
              "   micro_sd_slot  screen_pixel_density  water_proof_rate  phone_width  \\\n",
              "0              4                     2                 3         67.8   \n",
              "1              4                     4                 6         64.0   \n",
              "2              4                     9                 6         72.0   \n",
              "3              4                     1                 3         75.1   \n",
              "4              4                     1                 6         91.0   \n",
              "\n",
              "   expandable_memory  version  usb_type  battery_capacity  processor_rank  \\\n",
              "0               64.0        5         3              2000             125   \n",
              "1               32.0        5         3              2000             165   \n",
              "2               32.0        6         3              2500             164   \n",
              "3               32.0        6         3              3000             165   \n",
              "4               32.0        6         3              3000             165   \n",
              "\n",
              "   is_liked  \n",
              "0         1  \n",
              "1         1  \n",
              "2         0  \n",
              "3         1  \n",
              "4         0  \n",
              "\n",
              "[5 rows x 40 columns]"
            ]
          },
          "metadata": {
            "tags": []
          },
          "execution_count": 10
        }
      ]
    },
    {
      "metadata": {
        "id": "ZoLbfHftu8Rv",
        "colab_type": "code",
        "outputId": "63e9b1ce-6242-45c1-8b72-5a953ff27269",
        "colab": {
          "base_uri": "https://localhost:8080/",
          "height": 256
        }
      },
      "cell_type": "code",
      "source": [
        "df.tail()"
      ],
      "execution_count": 0,
      "outputs": [
        {
          "output_type": "execute_result",
          "data": {
            "text/html": [
              "<div>\n",
              "<style scoped>\n",
              "    .dataframe tbody tr th:only-of-type {\n",
              "        vertical-align: middle;\n",
              "    }\n",
              "\n",
              "    .dataframe tbody tr th {\n",
              "        vertical-align: top;\n",
              "    }\n",
              "\n",
              "    .dataframe thead th {\n",
              "        text-align: right;\n",
              "    }\n",
              "</style>\n",
              "<table border=\"1\" class=\"dataframe\">\n",
              "  <thead>\n",
              "    <tr style=\"text-align: right;\">\n",
              "      <th></th>\n",
              "      <th>sim_type</th>\n",
              "      <th>aperture</th>\n",
              "      <th>gpu_rank</th>\n",
              "      <th>weight</th>\n",
              "      <th>stand_by_time</th>\n",
              "      <th>processor_frequency</th>\n",
              "      <th>thickness</th>\n",
              "      <th>flash_type</th>\n",
              "      <th>front_camera_resolution</th>\n",
              "      <th>auto_focus</th>\n",
              "      <th>...</th>\n",
              "      <th>micro_sd_slot</th>\n",
              "      <th>screen_pixel_density</th>\n",
              "      <th>water_proof_rate</th>\n",
              "      <th>phone_width</th>\n",
              "      <th>expandable_memory</th>\n",
              "      <th>version</th>\n",
              "      <th>usb_type</th>\n",
              "      <th>battery_capacity</th>\n",
              "      <th>processor_rank</th>\n",
              "      <th>is_liked</th>\n",
              "    </tr>\n",
              "  </thead>\n",
              "  <tbody>\n",
              "    <tr>\n",
              "      <th>104</th>\n",
              "      <td>3</td>\n",
              "      <td>10</td>\n",
              "      <td>14</td>\n",
              "      <td>192.0</td>\n",
              "      <td>540</td>\n",
              "      <td>1.8</td>\n",
              "      <td>9.4</td>\n",
              "      <td>2</td>\n",
              "      <td>2.0</td>\n",
              "      <td>2</td>\n",
              "      <td>...</td>\n",
              "      <td>4</td>\n",
              "      <td>29</td>\n",
              "      <td>6</td>\n",
              "      <td>77.2</td>\n",
              "      <td>256.0</td>\n",
              "      <td>6</td>\n",
              "      <td>3</td>\n",
              "      <td>3410</td>\n",
              "      <td>8</td>\n",
              "      <td>1</td>\n",
              "    </tr>\n",
              "    <tr>\n",
              "      <th>105</th>\n",
              "      <td>0</td>\n",
              "      <td>5</td>\n",
              "      <td>3</td>\n",
              "      <td>157.0</td>\n",
              "      <td>400</td>\n",
              "      <td>2.3</td>\n",
              "      <td>7.7</td>\n",
              "      <td>5</td>\n",
              "      <td>5.0</td>\n",
              "      <td>3</td>\n",
              "      <td>...</td>\n",
              "      <td>6</td>\n",
              "      <td>27</td>\n",
              "      <td>1</td>\n",
              "      <td>72.6</td>\n",
              "      <td>200.0</td>\n",
              "      <td>9</td>\n",
              "      <td>3</td>\n",
              "      <td>3600</td>\n",
              "      <td>101</td>\n",
              "      <td>1</td>\n",
              "    </tr>\n",
              "    <tr>\n",
              "      <th>106</th>\n",
              "      <td>3</td>\n",
              "      <td>10</td>\n",
              "      <td>6</td>\n",
              "      <td>192.0</td>\n",
              "      <td>384</td>\n",
              "      <td>1.8</td>\n",
              "      <td>7.3</td>\n",
              "      <td>2</td>\n",
              "      <td>5.0</td>\n",
              "      <td>3</td>\n",
              "      <td>...</td>\n",
              "      <td>1</td>\n",
              "      <td>16</td>\n",
              "      <td>6</td>\n",
              "      <td>77.9</td>\n",
              "      <td>0.0</td>\n",
              "      <td>14</td>\n",
              "      <td>13</td>\n",
              "      <td>2750</td>\n",
              "      <td>1</td>\n",
              "      <td>1</td>\n",
              "    </tr>\n",
              "    <tr>\n",
              "      <th>107</th>\n",
              "      <td>3</td>\n",
              "      <td>10</td>\n",
              "      <td>12</td>\n",
              "      <td>129.0</td>\n",
              "      <td>250</td>\n",
              "      <td>1.4</td>\n",
              "      <td>6.9</td>\n",
              "      <td>2</td>\n",
              "      <td>1.2</td>\n",
              "      <td>3</td>\n",
              "      <td>...</td>\n",
              "      <td>1</td>\n",
              "      <td>13</td>\n",
              "      <td>6</td>\n",
              "      <td>67.0</td>\n",
              "      <td>0.0</td>\n",
              "      <td>12</td>\n",
              "      <td>13</td>\n",
              "      <td>1810</td>\n",
              "      <td>7</td>\n",
              "      <td>1</td>\n",
              "    </tr>\n",
              "    <tr>\n",
              "      <th>108</th>\n",
              "      <td>2</td>\n",
              "      <td>8</td>\n",
              "      <td>3</td>\n",
              "      <td>158.0</td>\n",
              "      <td>400</td>\n",
              "      <td>2.2</td>\n",
              "      <td>7.4</td>\n",
              "      <td>6</td>\n",
              "      <td>8.0</td>\n",
              "      <td>3</td>\n",
              "      <td>...</td>\n",
              "      <td>5</td>\n",
              "      <td>16</td>\n",
              "      <td>6</td>\n",
              "      <td>74.7</td>\n",
              "      <td>0.0</td>\n",
              "      <td>10</td>\n",
              "      <td>12</td>\n",
              "      <td>3000</td>\n",
              "      <td>2</td>\n",
              "      <td>0</td>\n",
              "    </tr>\n",
              "  </tbody>\n",
              "</table>\n",
              "<p>5 rows × 40 columns</p>\n",
              "</div>"
            ],
            "text/plain": [
              "     sim_type  aperture  gpu_rank  weight  stand_by_time  processor_frequency  \\\n",
              "104         3        10        14   192.0            540                  1.8   \n",
              "105         0         5         3   157.0            400                  2.3   \n",
              "106         3        10         6   192.0            384                  1.8   \n",
              "107         3        10        12   129.0            250                  1.4   \n",
              "108         2         8         3   158.0            400                  2.2   \n",
              "\n",
              "     thickness  flash_type  front_camera_resolution  auto_focus    ...     \\\n",
              "104        9.4           2                      2.0           2    ...      \n",
              "105        7.7           5                      5.0           3    ...      \n",
              "106        7.3           2                      5.0           3    ...      \n",
              "107        6.9           2                      1.2           3    ...      \n",
              "108        7.4           6                      8.0           3    ...      \n",
              "\n",
              "     micro_sd_slot  screen_pixel_density  water_proof_rate  phone_width  \\\n",
              "104              4                    29                 6         77.2   \n",
              "105              6                    27                 1         72.6   \n",
              "106              1                    16                 6         77.9   \n",
              "107              1                    13                 6         67.0   \n",
              "108              5                    16                 6         74.7   \n",
              "\n",
              "     expandable_memory  version  usb_type  battery_capacity  processor_rank  \\\n",
              "104              256.0        6         3              3410               8   \n",
              "105              200.0        9         3              3600             101   \n",
              "106                0.0       14        13              2750               1   \n",
              "107                0.0       12        13              1810               7   \n",
              "108                0.0       10        12              3000               2   \n",
              "\n",
              "     is_liked  \n",
              "104         1  \n",
              "105         1  \n",
              "106         1  \n",
              "107         1  \n",
              "108         0  \n",
              "\n",
              "[5 rows x 40 columns]"
            ]
          },
          "metadata": {
            "tags": []
          },
          "execution_count": 11
        }
      ]
    },
    {
      "metadata": {
        "id": "pvRkuCE2wBeo",
        "colab_type": "code",
        "outputId": "bcaba670-3887-4f62-df8c-94a8c29e464c",
        "colab": {
          "base_uri": "https://localhost:8080/",
          "height": 34
        }
      },
      "cell_type": "code",
      "source": [
        "type(df) #pandas.core.frame.DataFrame"
      ],
      "execution_count": 0,
      "outputs": [
        {
          "output_type": "execute_result",
          "data": {
            "text/plain": [
              "pandas.core.frame.DataFrame"
            ]
          },
          "metadata": {
            "tags": []
          },
          "execution_count": 12
        }
      ]
    },
    {
      "metadata": {
        "id": "NjogP0-PwNIE",
        "colab_type": "code",
        "colab": {}
      },
      "cell_type": "code",
      "source": [
        "dir(df) #lists all the functions available under data frame"
      ],
      "execution_count": 0,
      "outputs": []
    },
    {
      "metadata": {
        "id": "MaUOa_WYwUZY",
        "colab_type": "code",
        "outputId": "e78aad4b-8f56-45b8-9b5f-da2f60741655",
        "colab": {
          "base_uri": "https://localhost:8080/",
          "height": 34
        }
      },
      "cell_type": "code",
      "source": [
        "len(df)"
      ],
      "execution_count": 0,
      "outputs": [
        {
          "output_type": "execute_result",
          "data": {
            "text/plain": [
              "109"
            ]
          },
          "metadata": {
            "tags": []
          },
          "execution_count": 14
        }
      ]
    },
    {
      "metadata": {
        "id": "fJBeAvc_whkr",
        "colab_type": "code",
        "outputId": "66223318-d484-4283-d0f2-2bc86ebeaa9e",
        "colab": {
          "base_uri": "https://localhost:8080/",
          "height": 34
        }
      },
      "cell_type": "code",
      "source": [
        "df.shape"
      ],
      "execution_count": 0,
      "outputs": [
        {
          "output_type": "execute_result",
          "data": {
            "text/plain": [
              "(109, 40)"
            ]
          },
          "metadata": {
            "tags": []
          },
          "execution_count": 16
        }
      ]
    },
    {
      "metadata": {
        "id": "DuTY91wjwmbx",
        "colab_type": "code",
        "colab": {}
      },
      "cell_type": "code",
      "source": [
        "df.loc[5] "
      ],
      "execution_count": 0,
      "outputs": []
    },
    {
      "metadata": {
        "id": "oit0jw6Lw_NV",
        "colab_type": "code",
        "colab": {}
      },
      "cell_type": "code",
      "source": [
        "df_short = df[0:10]"
      ],
      "execution_count": 0,
      "outputs": []
    },
    {
      "metadata": {
        "id": "AFvLhC3DxMN5",
        "colab_type": "code",
        "outputId": "da107acb-03e2-44c9-f58c-06c5575a25e7",
        "colab": {
          "base_uri": "https://localhost:8080/",
          "height": 34
        }
      },
      "cell_type": "code",
      "source": [
        "df_short.shape"
      ],
      "execution_count": 0,
      "outputs": [
        {
          "output_type": "execute_result",
          "data": {
            "text/plain": [
              "(10, 40)"
            ]
          },
          "metadata": {
            "tags": []
          },
          "execution_count": 19
        }
      ]
    },
    {
      "metadata": {
        "id": "4GJs0dFixTjT",
        "colab_type": "code",
        "colab": {}
      },
      "cell_type": "code",
      "source": [
        "df_short.head()"
      ],
      "execution_count": 0,
      "outputs": []
    },
    {
      "metadata": {
        "id": "aRHLDQxnxa49",
        "colab_type": "code",
        "colab": {}
      },
      "cell_type": "code",
      "source": [
        "df_thin = df[['stand_by_time','expandable_memory','price','front_camera_resolution','is_liked']]"
      ],
      "execution_count": 0,
      "outputs": []
    },
    {
      "metadata": {
        "id": "6d2p4WV-yDIY",
        "colab_type": "code",
        "outputId": "ea562ba0-eb31-46a3-91d6-68af68610144",
        "colab": {
          "base_uri": "https://localhost:8080/",
          "height": 34
        }
      },
      "cell_type": "code",
      "source": [
        "df_thin.shape"
      ],
      "execution_count": 0,
      "outputs": [
        {
          "output_type": "execute_result",
          "data": {
            "text/plain": [
              "(109, 5)"
            ]
          },
          "metadata": {
            "tags": []
          },
          "execution_count": 26
        }
      ]
    },
    {
      "metadata": {
        "id": "PmIaoxEVyFfo",
        "colab_type": "code",
        "outputId": "5024c68e-0d68-46c0-cd5d-d62dd6e1cc8d",
        "colab": {
          "base_uri": "https://localhost:8080/",
          "height": 206
        }
      },
      "cell_type": "code",
      "source": [
        "df_thin.head()"
      ],
      "execution_count": 0,
      "outputs": [
        {
          "output_type": "execute_result",
          "data": {
            "text/html": [
              "<div>\n",
              "<style scoped>\n",
              "    .dataframe tbody tr th:only-of-type {\n",
              "        vertical-align: middle;\n",
              "    }\n",
              "\n",
              "    .dataframe tbody tr th {\n",
              "        vertical-align: top;\n",
              "    }\n",
              "\n",
              "    .dataframe thead th {\n",
              "        text-align: right;\n",
              "    }\n",
              "</style>\n",
              "<table border=\"1\" class=\"dataframe\">\n",
              "  <thead>\n",
              "    <tr style=\"text-align: right;\">\n",
              "      <th></th>\n",
              "      <th>stand_by_time</th>\n",
              "      <th>expandable_memory</th>\n",
              "      <th>price</th>\n",
              "      <th>front_camera_resolution</th>\n",
              "      <th>is_liked</th>\n",
              "    </tr>\n",
              "  </thead>\n",
              "  <tbody>\n",
              "    <tr>\n",
              "      <th>0</th>\n",
              "      <td>250</td>\n",
              "      <td>64.0</td>\n",
              "      <td>3870</td>\n",
              "      <td>2.00</td>\n",
              "      <td>1</td>\n",
              "    </tr>\n",
              "    <tr>\n",
              "      <th>1</th>\n",
              "      <td>300</td>\n",
              "      <td>32.0</td>\n",
              "      <td>4059</td>\n",
              "      <td>0.30</td>\n",
              "      <td>1</td>\n",
              "    </tr>\n",
              "    <tr>\n",
              "      <th>2</th>\n",
              "      <td>329</td>\n",
              "      <td>32.0</td>\n",
              "      <td>4777</td>\n",
              "      <td>2.00</td>\n",
              "      <td>0</td>\n",
              "    </tr>\n",
              "    <tr>\n",
              "      <th>3</th>\n",
              "      <td>385</td>\n",
              "      <td>32.0</td>\n",
              "      <td>5799</td>\n",
              "      <td>2.00</td>\n",
              "      <td>1</td>\n",
              "    </tr>\n",
              "    <tr>\n",
              "      <th>4</th>\n",
              "      <td>385</td>\n",
              "      <td>32.0</td>\n",
              "      <td>5990</td>\n",
              "      <td>1.92</td>\n",
              "      <td>0</td>\n",
              "    </tr>\n",
              "  </tbody>\n",
              "</table>\n",
              "</div>"
            ],
            "text/plain": [
              "   stand_by_time  expandable_memory  price  front_camera_resolution  is_liked\n",
              "0            250               64.0   3870                     2.00         1\n",
              "1            300               32.0   4059                     0.30         1\n",
              "2            329               32.0   4777                     2.00         0\n",
              "3            385               32.0   5799                     2.00         1\n",
              "4            385               32.0   5990                     1.92         0"
            ]
          },
          "metadata": {
            "tags": []
          },
          "execution_count": 27
        }
      ]
    },
    {
      "metadata": {
        "id": "M-bPFaC7yXdt",
        "colab_type": "code",
        "colab": {}
      },
      "cell_type": "code",
      "source": [
        "df_liked = df_thin[df_thin['is_liked']==1]"
      ],
      "execution_count": 0,
      "outputs": []
    },
    {
      "metadata": {
        "id": "ksH1tHl77DhV",
        "colab_type": "code",
        "outputId": "37f78e95-c457-4b98-85cd-a7bb917bf10f",
        "colab": {
          "base_uri": "https://localhost:8080/",
          "height": 206
        }
      },
      "cell_type": "code",
      "source": [
        "df_liked.head()"
      ],
      "execution_count": 0,
      "outputs": [
        {
          "output_type": "execute_result",
          "data": {
            "text/html": [
              "<div>\n",
              "<style scoped>\n",
              "    .dataframe tbody tr th:only-of-type {\n",
              "        vertical-align: middle;\n",
              "    }\n",
              "\n",
              "    .dataframe tbody tr th {\n",
              "        vertical-align: top;\n",
              "    }\n",
              "\n",
              "    .dataframe thead th {\n",
              "        text-align: right;\n",
              "    }\n",
              "</style>\n",
              "<table border=\"1\" class=\"dataframe\">\n",
              "  <thead>\n",
              "    <tr style=\"text-align: right;\">\n",
              "      <th></th>\n",
              "      <th>stand_by_time</th>\n",
              "      <th>expandable_memory</th>\n",
              "      <th>price</th>\n",
              "      <th>front_camera_resolution</th>\n",
              "      <th>is_liked</th>\n",
              "    </tr>\n",
              "  </thead>\n",
              "  <tbody>\n",
              "    <tr>\n",
              "      <th>0</th>\n",
              "      <td>250</td>\n",
              "      <td>64.0</td>\n",
              "      <td>3870</td>\n",
              "      <td>2.0</td>\n",
              "      <td>1</td>\n",
              "    </tr>\n",
              "    <tr>\n",
              "      <th>1</th>\n",
              "      <td>300</td>\n",
              "      <td>32.0</td>\n",
              "      <td>4059</td>\n",
              "      <td>0.3</td>\n",
              "      <td>1</td>\n",
              "    </tr>\n",
              "    <tr>\n",
              "      <th>3</th>\n",
              "      <td>385</td>\n",
              "      <td>32.0</td>\n",
              "      <td>5799</td>\n",
              "      <td>2.0</td>\n",
              "      <td>1</td>\n",
              "    </tr>\n",
              "    <tr>\n",
              "      <th>6</th>\n",
              "      <td>230</td>\n",
              "      <td>128.0</td>\n",
              "      <td>5999</td>\n",
              "      <td>2.0</td>\n",
              "      <td>1</td>\n",
              "    </tr>\n",
              "    <tr>\n",
              "      <th>7</th>\n",
              "      <td>182</td>\n",
              "      <td>32.0</td>\n",
              "      <td>6599</td>\n",
              "      <td>2.0</td>\n",
              "      <td>1</td>\n",
              "    </tr>\n",
              "  </tbody>\n",
              "</table>\n",
              "</div>"
            ],
            "text/plain": [
              "   stand_by_time  expandable_memory  price  front_camera_resolution  is_liked\n",
              "0            250               64.0   3870                      2.0         1\n",
              "1            300               32.0   4059                      0.3         1\n",
              "3            385               32.0   5799                      2.0         1\n",
              "6            230              128.0   5999                      2.0         1\n",
              "7            182               32.0   6599                      2.0         1"
            ]
          },
          "metadata": {
            "tags": []
          },
          "execution_count": 29
        }
      ]
    },
    {
      "metadata": {
        "id": "gNx9N_Su7GDR",
        "colab_type": "code",
        "outputId": "10898cdc-6c4c-426c-ca47-ab5d4693b505",
        "colab": {
          "base_uri": "https://localhost:8080/",
          "height": 34
        }
      },
      "cell_type": "code",
      "source": [
        "df_liked.shape"
      ],
      "execution_count": 0,
      "outputs": [
        {
          "output_type": "execute_result",
          "data": {
            "text/plain": [
              "(92, 5)"
            ]
          },
          "metadata": {
            "tags": []
          },
          "execution_count": 30
        }
      ]
    },
    {
      "metadata": {
        "id": "DYCS5A4E7N83",
        "colab_type": "code",
        "outputId": "d3323cf3-d3df-4146-e568-c423a502a042",
        "colab": {
          "base_uri": "https://localhost:8080/",
          "height": 34
        }
      },
      "cell_type": "code",
      "source": [
        "df_thin['price'].mean() #describe(),count(); on column price, if column is unspecified it will describe all columns"
      ],
      "execution_count": 0,
      "outputs": [
        {
          "output_type": "execute_result",
          "data": {
            "text/plain": [
              "19373.211009174312"
            ]
          },
          "metadata": {
            "tags": []
          },
          "execution_count": 32
        }
      ]
    },
    {
      "metadata": {
        "id": "MgwyoZEU7amB",
        "colab_type": "code",
        "outputId": "08ce3242-95fb-4775-ae7c-814d86ff119b",
        "colab": {
          "base_uri": "https://localhost:8080/",
          "height": 34
        }
      },
      "cell_type": "code",
      "source": [
        "df_thin[df_thin['is_liked']==1]['price'].mean() #mean price of liked phones"
      ],
      "execution_count": 0,
      "outputs": [
        {
          "output_type": "execute_result",
          "data": {
            "text/plain": [
              "19393.239130434784"
            ]
          },
          "metadata": {
            "tags": []
          },
          "execution_count": 34
        }
      ]
    },
    {
      "metadata": {
        "id": "WMUbfKWL8N4T",
        "colab_type": "code",
        "outputId": "0d54f3be-1d3a-4391-b892-b2e17a9b84a0",
        "colab": {
          "base_uri": "https://localhost:8080/",
          "height": 34
        }
      },
      "cell_type": "code",
      "source": [
        "df_thin[df_thin['is_liked']==0]['price'].mean() #mean price of disliked phones"
      ],
      "execution_count": 0,
      "outputs": [
        {
          "output_type": "execute_result",
          "data": {
            "text/plain": [
              "19264.823529411766"
            ]
          },
          "metadata": {
            "tags": []
          },
          "execution_count": 35
        }
      ]
    },
    {
      "metadata": {
        "id": "UQO6KScF8WZB",
        "colab_type": "code",
        "colab": {}
      },
      "cell_type": "code",
      "source": [
        "g = df_thin.groupby(['is_liked'])"
      ],
      "execution_count": 0,
      "outputs": []
    },
    {
      "metadata": {
        "id": "fG3rLCPb9EnJ",
        "colab_type": "code",
        "colab": {}
      },
      "cell_type": "code",
      "source": [
        "for key,df_key in g:\n",
        "  print(key) #key on which groupby has occurred, here 'is_liked'\n",
        "  print(df_key)"
      ],
      "execution_count": 0,
      "outputs": []
    },
    {
      "metadata": {
        "id": "5SI6kcKq9Pql",
        "colab_type": "code",
        "outputId": "1c9aafb9-6421-48a7-a726-7c18b7b8fb2d",
        "colab": {
          "base_uri": "https://localhost:8080/",
          "height": 143
        }
      },
      "cell_type": "code",
      "source": [
        "g.mean() # where g = df_thin.groupby(['is_liked']), can use functions like max(),describe() too"
      ],
      "execution_count": 0,
      "outputs": [
        {
          "output_type": "execute_result",
          "data": {
            "text/html": [
              "<div>\n",
              "<style scoped>\n",
              "    .dataframe tbody tr th:only-of-type {\n",
              "        vertical-align: middle;\n",
              "    }\n",
              "\n",
              "    .dataframe tbody tr th {\n",
              "        vertical-align: top;\n",
              "    }\n",
              "\n",
              "    .dataframe thead th {\n",
              "        text-align: right;\n",
              "    }\n",
              "</style>\n",
              "<table border=\"1\" class=\"dataframe\">\n",
              "  <thead>\n",
              "    <tr style=\"text-align: right;\">\n",
              "      <th></th>\n",
              "      <th>stand_by_time</th>\n",
              "      <th>expandable_memory</th>\n",
              "      <th>price</th>\n",
              "      <th>front_camera_resolution</th>\n",
              "    </tr>\n",
              "    <tr>\n",
              "      <th>is_liked</th>\n",
              "      <th></th>\n",
              "      <th></th>\n",
              "      <th></th>\n",
              "      <th></th>\n",
              "    </tr>\n",
              "  </thead>\n",
              "  <tbody>\n",
              "    <tr>\n",
              "      <th>0</th>\n",
              "      <td>457.235294</td>\n",
              "      <td>68.235294</td>\n",
              "      <td>19264.823529</td>\n",
              "      <td>5.301176</td>\n",
              "    </tr>\n",
              "    <tr>\n",
              "      <th>1</th>\n",
              "      <td>394.945652</td>\n",
              "      <td>111.217391</td>\n",
              "      <td>19393.239130</td>\n",
              "      <td>4.755435</td>\n",
              "    </tr>\n",
              "  </tbody>\n",
              "</table>\n",
              "</div>"
            ],
            "text/plain": [
              "          stand_by_time  expandable_memory         price  \\\n",
              "is_liked                                                   \n",
              "0            457.235294          68.235294  19264.823529   \n",
              "1            394.945652         111.217391  19393.239130   \n",
              "\n",
              "          front_camera_resolution  \n",
              "is_liked                           \n",
              "0                        5.301176  \n",
              "1                        4.755435  "
            ]
          },
          "metadata": {
            "tags": []
          },
          "execution_count": 42
        }
      ]
    },
    {
      "metadata": {
        "id": "Q99cbmVz9vXg",
        "colab_type": "code",
        "colab": {}
      },
      "cell_type": "code",
      "source": [
        "import matplotlib.pyplot as plt\n",
        "import seaborn as sns\n",
        "sns.set()"
      ],
      "execution_count": 0,
      "outputs": []
    },
    {
      "metadata": {
        "id": "nPIAFHpq_h7v",
        "colab_type": "code",
        "outputId": "3ea92802-0038-421a-ff70-4640c3e53de8",
        "colab": {
          "base_uri": "https://localhost:8080/",
          "height": 901
        }
      },
      "cell_type": "code",
      "source": [
        "ax = sns.pairplot(df_thin,diag_kind='hist') #plots all the features"
      ],
      "execution_count": 0,
      "outputs": [
        {
          "output_type": "display_data",
          "data": {
            "image/png": "[encoded data removed]",
            "text/plain": [
              "<Figure size 900x900 with 30 Axes>"
            ]
          },
          "metadata": {
            "tags": []
          }
        }
      ]
    },
    {
      "metadata": {
        "id": "NojAr8dJ_-ke",
        "colab_type": "code",
        "outputId": "bab28070-df13-4f21-8186-584ea282977f",
        "colab": {
          "base_uri": "https://localhost:8080/",
          "height": 901
        }
      },
      "cell_type": "code",
      "source": [
        "ax = sns.pairplot(df_thin,diag_kind='hist',hue='is_liked')"
      ],
      "execution_count": 0,
      "outputs": [
        {
          "output_type": "display_data",
          "data": {
            "image/png": "[encoded data removed]",
            "text/plain": [
              "<Figure size 941.625x900 with 30 Axes>"
            ]
          },
          "metadata": {
            "tags": []
          }
        }
      ]
    },
    {
      "metadata": {
        "id": "sPTmOrRNAly7",
        "colab_type": "text"
      },
      "cell_type": "markdown",
      "source": [
        ""
      ]
    },
    {
      "metadata": {
        "id": "7G7O84M2Ath-",
        "colab_type": "text"
      },
      "cell_type": "markdown",
      "source": [
        "#Debugging"
      ]
    },
    {
      "metadata": {
        "id": "b_PlDfUiAvxE",
        "colab_type": "code",
        "colab": {}
      },
      "cell_type": "code",
      "source": [
        "import random\n",
        "def factorial(x):\n",
        "  if x==0:\n",
        "    return 1\n",
        "  return x*factorial(x-1)\n",
        "  "
      ],
      "execution_count": 0,
      "outputs": []
    },
    {
      "metadata": {
        "id": "bVLgfGdcBU6F",
        "colab_type": "code",
        "outputId": "be45806a-2d5c-4c0b-90bf-90b8706157af",
        "colab": {
          "base_uri": "https://localhost:8080/",
          "height": 54
        }
      },
      "cell_type": "code",
      "source": [
        "factorial(100)"
      ],
      "execution_count": 0,
      "outputs": [
        {
          "output_type": "execute_result",
          "data": {
            "text/plain": [
              "93326215443944152681699238856266700490715968264381621468592963895217599993229915608941463976156518286253697920827223758251185210916864000000000000000000000000"
            ]
          },
          "metadata": {
            "tags": []
          },
          "execution_count": 49
        }
      ]
    },
    {
      "metadata": {
        "id": "GOFpcd8wBWip",
        "colab_type": "code",
        "colab": {}
      },
      "cell_type": "code",
      "source": [
        "def code_to_debug():\n",
        "  #import pdb; pdb.set_trace() #python debugger\n",
        "  for i in range(10):\n",
        "    x=random.random()\n",
        "    factorial(x)"
      ],
      "execution_count": 0,
      "outputs": []
    },
    {
      "metadata": {
        "id": "SUmSNXDvGZSt",
        "colab_type": "code",
        "outputId": "f092a38a-ead2-479b-9797-736381824e31",
        "colab": {
          "base_uri": "https://localhost:8080/",
          "height": 619
        }
      },
      "cell_type": "code",
      "source": [
        "code_to_debug() #RecursionError because random.random produces non integers and causes to recurse and recurse "
      ],
      "execution_count": 0,
      "outputs": [
        {
          "output_type": "error",
          "ename": "RecursionError",
          "evalue": "ignored",
          "traceback": [
            "\u001b[0;31m---------------------------------------------------------------------------\u001b[0m",
            "\u001b[0;31mRecursionError\u001b[0m                            Traceback (most recent call last)",
            "\u001b[0;32m<ipython-input-77-eed2c1e88165>\u001b[0m in \u001b[0;36m<module>\u001b[0;34m()\u001b[0m\n\u001b[0;32m----> 1\u001b[0;31m \u001b[0mcode_to_debug\u001b[0m\u001b[0;34m(\u001b[0m\u001b[0;34m)\u001b[0m \u001b[0;31m#RecursionError because random.random produces non integers and causes to recurse and recurse\u001b[0m\u001b[0;34m\u001b[0m\u001b[0;34m\u001b[0m\u001b[0m\n\u001b[0m        \u001b[0;36mglobal\u001b[0m \u001b[0;36mcode_to_debug\u001b[0m \u001b[0;34m= <function code_to_debug at 0x7f4f0e34d7b8>\u001b[0m\n",
            "\u001b[0;32m<ipython-input-72-e43eaab9817b>\u001b[0m in \u001b[0;36mcode_to_debug\u001b[0;34m()\u001b[0m\n\u001b[1;32m      3\u001b[0m   \u001b[0;32mfor\u001b[0m \u001b[0mi\u001b[0m \u001b[0;32min\u001b[0m \u001b[0mrange\u001b[0m\u001b[0;34m(\u001b[0m\u001b[0;36m10\u001b[0m\u001b[0;34m)\u001b[0m\u001b[0;34m:\u001b[0m\u001b[0;34m\u001b[0m\u001b[0;34m\u001b[0m\u001b[0m\n\u001b[1;32m      4\u001b[0m     \u001b[0mx\u001b[0m\u001b[0;34m=\u001b[0m\u001b[0mrandom\u001b[0m\u001b[0;34m.\u001b[0m\u001b[0mrandom\u001b[0m\u001b[0;34m(\u001b[0m\u001b[0;34m)\u001b[0m\u001b[0;34m\u001b[0m\u001b[0;34m\u001b[0m\u001b[0m\n\u001b[0;32m----> 5\u001b[0;31m     \u001b[0mfactorial\u001b[0m\u001b[0;34m(\u001b[0m\u001b[0mx\u001b[0m\u001b[0;34m)\u001b[0m\u001b[0;34m\u001b[0m\u001b[0;34m\u001b[0m\u001b[0m\n\u001b[0m        \u001b[0;36mglobal\u001b[0m \u001b[0;36mfactorial\u001b[0m \u001b[0;34m= <function factorial at 0x7f4f0e2fd6a8>\u001b[0m\u001b[0;34m\n        \u001b[0m\u001b[0;36mx\u001b[0m \u001b[0;34m= 0.7454486051511996\u001b[0m\n",
            "\u001b[0;32m<ipython-input-50-43fa5a515721>\u001b[0m in \u001b[0;36mfactorial\u001b[0;34m(x=0.7454486051511996)\u001b[0m\n\u001b[1;32m      3\u001b[0m   \u001b[0;32mif\u001b[0m \u001b[0mx\u001b[0m\u001b[0;34m==\u001b[0m\u001b[0;36m0\u001b[0m\u001b[0;34m:\u001b[0m\u001b[0;34m\u001b[0m\u001b[0;34m\u001b[0m\u001b[0m\n\u001b[1;32m      4\u001b[0m     \u001b[0;32mreturn\u001b[0m \u001b[0;36m1\u001b[0m\u001b[0;34m\u001b[0m\u001b[0;34m\u001b[0m\u001b[0m\n\u001b[0;32m----> 5\u001b[0;31m   \u001b[0;32mreturn\u001b[0m \u001b[0mx\u001b[0m\u001b[0;34m*\u001b[0m\u001b[0mfactorial\u001b[0m\u001b[0;34m(\u001b[0m\u001b[0mx\u001b[0m\u001b[0;34m-\u001b[0m\u001b[0;36m1\u001b[0m\u001b[0;34m)\u001b[0m\u001b[0;34m\u001b[0m\u001b[0;34m\u001b[0m\u001b[0m\n\u001b[0m        \u001b[0;36mx\u001b[0m \u001b[0;34m= 0.7454486051511996\u001b[0m\u001b[0;34m\n        \u001b[0m\u001b[0;36mglobal\u001b[0m \u001b[0;36mfactorial\u001b[0m \u001b[0;34m= <function factorial at 0x7f4f0e2fd6a8>\u001b[0m\n\u001b[1;32m      6\u001b[0m \u001b[0;34m\u001b[0m\u001b[0m\n",
            "... last 1 frames repeated, from the frame below ...\n",
            "\u001b[0;32m<ipython-input-50-43fa5a515721>\u001b[0m in \u001b[0;36mfactorial\u001b[0;34m(x=-0.2545513948488004)\u001b[0m\n\u001b[1;32m      3\u001b[0m   \u001b[0;32mif\u001b[0m \u001b[0mx\u001b[0m\u001b[0;34m==\u001b[0m\u001b[0;36m0\u001b[0m\u001b[0;34m:\u001b[0m\u001b[0;34m\u001b[0m\u001b[0;34m\u001b[0m\u001b[0m\n\u001b[1;32m      4\u001b[0m     \u001b[0;32mreturn\u001b[0m \u001b[0;36m1\u001b[0m\u001b[0;34m\u001b[0m\u001b[0;34m\u001b[0m\u001b[0m\n\u001b[0;32m----> 5\u001b[0;31m   \u001b[0;32mreturn\u001b[0m \u001b[0mx\u001b[0m\u001b[0;34m*\u001b[0m\u001b[0mfactorial\u001b[0m\u001b[0;34m(\u001b[0m\u001b[0mx\u001b[0m\u001b[0;34m-\u001b[0m\u001b[0;36m1\u001b[0m\u001b[0;34m)\u001b[0m\u001b[0;34m\u001b[0m\u001b[0;34m\u001b[0m\u001b[0m\n\u001b[0m        \u001b[0;36mx\u001b[0m \u001b[0;34m= -0.2545513948488004\u001b[0m\u001b[0;34m\n        \u001b[0m\u001b[0;36mglobal\u001b[0m \u001b[0;36mfactorial\u001b[0m \u001b[0;34m= <function factorial at 0x7f4f0e2fd6a8>\u001b[0m\n\u001b[1;32m      6\u001b[0m \u001b[0;34m\u001b[0m\u001b[0m\n",
            "\u001b[0;31mRecursionError\u001b[0m: maximum recursion depth exceeded in comparison"
          ]
        }
      ]
    },
    {
      "metadata": {
        "id": "aP_E1zw8KH87",
        "colab_type": "code",
        "outputId": "10b2f061-4ed4-44fd-b875-0360e62db481",
        "colab": {
          "base_uri": "https://localhost:8080/",
          "height": 86
        }
      },
      "cell_type": "code",
      "source": [
        "%xmode Verbose #directive, can be used to get bit more information about the bug"
      ],
      "execution_count": 0,
      "outputs": [
        {
          "output_type": "stream",
          "text": [
            "/usr/local/lib/python3.6/dist-packages/IPython/core/magics/basic.py:374: UserWarning: Error changing user exception modes.\n",
            "Unrecognized mode in FormattedTB: <Verbose #directive, can be used to get bit more information about the bug>\n",
            "Valid modes: ['Plain', 'Context', 'Verbose']\n",
            "  (name,sys.exc_info()[1]))\n"
          ],
          "name": "stderr"
        }
      ]
    },
    {
      "metadata": {
        "id": "Lti8BqJHKRuk",
        "colab_type": "code",
        "colab": {}
      },
      "cell_type": "code",
      "source": [
        ""
      ],
      "execution_count": 0,
      "outputs": []
    },
    {
      "metadata": {
        "id": "2pwm9j8XGgKb",
        "colab_type": "code",
        "colab": {}
      },
      "cell_type": "code",
      "source": [
        "def factorial_debugged(x):\n",
        "  if (not isinstance(x,int)): #isinstance() checks if the x is an integer\n",
        "    print('Method only supports integers.')\n",
        "    return -1\n",
        "  if x==0:\n",
        "    return 1\n",
        "  return x*factorial(x-1)"
      ],
      "execution_count": 0,
      "outputs": []
    },
    {
      "metadata": {
        "id": "wifgMnDoIoa7",
        "colab_type": "code",
        "colab": {}
      },
      "cell_type": "code",
      "source": [
        "def code_to_debug():\n",
        "  #import pdb; pdb.set_trace() #python debugger\n",
        "  for i in range(10):\n",
        "    x=random.random()\n",
        "    factorial_debugged(x)"
      ],
      "execution_count": 0,
      "outputs": []
    },
    {
      "metadata": {
        "id": "OrVZEgxPIxBF",
        "colab_type": "code",
        "outputId": "c08f3a02-fe54-4f1c-c796-08403efd54bf",
        "colab": {
          "base_uri": "https://localhost:8080/",
          "height": 191
        }
      },
      "cell_type": "code",
      "source": [
        "code_to_debug()"
      ],
      "execution_count": 0,
      "outputs": [
        {
          "output_type": "stream",
          "text": [
            "Method only supports integers.\n",
            "Method only supports integers.\n",
            "Method only supports integers.\n",
            "Method only supports integers.\n",
            "Method only supports integers.\n",
            "Method only supports integers.\n",
            "Method only supports integers.\n",
            "Method only supports integers.\n",
            "Method only supports integers.\n",
            "Method only supports integers.\n"
          ],
          "name": "stdout"
        }
      ]
    },
    {
      "metadata": {
        "id": "qBLIT063I3eE",
        "colab_type": "code",
        "colab": {}
      },
      "cell_type": "code",
      "source": [
        ""
      ],
      "execution_count": 0,
      "outputs": []
    },
    {
      "metadata": {
        "id": "vj9iTdsGK0NU",
        "colab_type": "code",
        "colab": {}
      },
      "cell_type": "code",
      "source": [
        ""
      ],
      "execution_count": 0,
      "outputs": []
    }
  ]
}