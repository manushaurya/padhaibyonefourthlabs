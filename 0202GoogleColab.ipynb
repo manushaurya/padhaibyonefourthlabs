{
  "nbformat": 4,
  "nbformat_minor": 0,
  "metadata": {
    "colab": {
      "name": "0202GoogleColab.ipynb",
      "version": "0.3.2",
      "provenance": [],
      "collapsed_sections": [
        "aPn_hxdQTHkS",
        "vgBOsKGFWLZz",
        "RCzJHG3OX-Yu",
        "AagAxw4dZ4Nf",
        "U4dOWG5kkB9N",
        "mZxC4Y_OwJSr",
        "TekwDD1I1EIT"
      ],
      "toc_visible": true,
      "include_colab_link": true
    },
    "kernelspec": {
      "name": "python3",
      "display_name": "Python 3"
    }
  },
  "cells": [
    {
      "cell_type": "markdown",
      "metadata": {
        "id": "view-in-github",
        "colab_type": "text"
      },
      "source": [
        "<a href=\"https://colab.research.google.com/github/manushaurya/padhaibyonefourthlabs/blob/master/0202GoogleColab.ipynb\" target=\"_parent\"><img src=\"https://colab.research.google.com/assets/colab-badge.svg\" alt=\"Open In Colab\"/></a>"
      ]
    },
    {
      "metadata": {
        "id": "NowtD0K1YLbR",
        "colab_type": "code",
        "outputId": "b37a99b4-2f92-47d1-e1fa-cde789b19a7c",
        "colab": {
          "base_uri": "https://localhost:8080/",
          "height": 34
        }
      },
      "cell_type": "code",
      "source": [
        "!ls #Unix command to get a list of directories"
      ],
      "execution_count": 0,
      "outputs": [
        {
          "output_type": "stream",
          "text": [
            "sample_data\n"
          ],
          "name": "stdout"
        }
      ]
    },
    {
      "metadata": {
        "id": "LzC1cndZZIOE",
        "colab_type": "code",
        "colab": {}
      },
      "cell_type": "code",
      "source": [
        "!cat /proc/cpuinfo #Self explanatory"
      ],
      "execution_count": 0,
      "outputs": []
    },
    {
      "metadata": {
        "id": "l5YGFhu7ZrVp",
        "colab_type": "code",
        "colab": {}
      },
      "cell_type": "code",
      "source": [
        "!cat /proc/meminfo #Self Explanatory"
      ],
      "execution_count": 0,
      "outputs": []
    },
    {
      "metadata": {
        "id": "lEH7SPi4hVrm",
        "colab_type": "text"
      },
      "cell_type": "markdown",
      "source": [
        "This supports $\\LaTeX$ too"
      ]
    },
    {
      "metadata": {
        "id": "KQIArM52hkw1",
        "colab_type": "text"
      },
      "cell_type": "markdown",
      "source": [
        "# Basic Data Types\n",
        "Let's begin with Python basic :"
      ]
    },
    {
      "metadata": {
        "id": "fm_uUwy_hnRu",
        "colab_type": "code",
        "colab": {}
      },
      "cell_type": "code",
      "source": [
        "name = 'iPhone 5s'"
      ],
      "execution_count": 0,
      "outputs": []
    },
    {
      "metadata": {
        "id": "nq9XYc8ih265",
        "colab_type": "code",
        "outputId": "9f4197e2-0c98-4c64-bb7e-e2275e96de33",
        "colab": {
          "base_uri": "https://localhost:8080/",
          "height": 34
        }
      },
      "cell_type": "code",
      "source": [
        "type(name)"
      ],
      "execution_count": 0,
      "outputs": [
        {
          "output_type": "execute_result",
          "data": {
            "text/plain": [
              "str"
            ]
          },
          "metadata": {
            "tags": []
          },
          "execution_count": 6
        }
      ]
    },
    {
      "metadata": {
        "id": "8-CKyAC0h4hV",
        "colab_type": "code",
        "outputId": "ca1afcea-fbbd-4a74-a73c-649526aeda2b",
        "colab": {
          "base_uri": "https://localhost:8080/",
          "height": 34
        }
      },
      "cell_type": "code",
      "source": [
        "print(name)"
      ],
      "execution_count": 0,
      "outputs": [
        {
          "output_type": "stream",
          "text": [
            "iPhone 5s\n"
          ],
          "name": "stdout"
        }
      ]
    },
    {
      "metadata": {
        "id": "vkj2FhIAh8uJ",
        "colab_type": "code",
        "colab": {}
      },
      "cell_type": "code",
      "source": [
        "screen_size = 4.3"
      ],
      "execution_count": 0,
      "outputs": []
    },
    {
      "metadata": {
        "id": "KdLz_n7kiBov",
        "colab_type": "code",
        "outputId": "50e17308-a7ea-42e1-efed-64da7cfc9360",
        "colab": {
          "base_uri": "https://localhost:8080/",
          "height": 34
        }
      },
      "cell_type": "code",
      "source": [
        "type(screen_size)"
      ],
      "execution_count": 0,
      "outputs": [
        {
          "output_type": "execute_result",
          "data": {
            "text/plain": [
              "float"
            ]
          },
          "metadata": {
            "tags": []
          },
          "execution_count": 9
        }
      ]
    },
    {
      "metadata": {
        "id": "d8fOceECiE1n",
        "colab_type": "code",
        "outputId": "5593709d-fc60-4f0f-93ba-71716e9d483f",
        "colab": {
          "base_uri": "https://localhost:8080/",
          "height": 34
        }
      },
      "cell_type": "code",
      "source": [
        "num_of_speakers = 1\n",
        "type(num_of_speakers)"
      ],
      "execution_count": 0,
      "outputs": [
        {
          "output_type": "execute_result",
          "data": {
            "text/plain": [
              "int"
            ]
          },
          "metadata": {
            "tags": []
          },
          "execution_count": 10
        }
      ]
    },
    {
      "metadata": {
        "id": "bK1T33hyiSYU",
        "colab_type": "code",
        "outputId": "754ec7de-6d17-4930-c712-d96eada91c8f",
        "colab": {
          "base_uri": "https://localhost:8080/",
          "height": 34
        }
      },
      "cell_type": "code",
      "source": [
        "print('I just bought an ' + name)"
      ],
      "execution_count": 0,
      "outputs": [
        {
          "output_type": "stream",
          "text": [
            "I just bought an iPhone 5s\n"
          ],
          "name": "stdout"
        }
      ]
    },
    {
      "metadata": {
        "id": "IZNDOx2wiYN_",
        "colab_type": "code",
        "outputId": "31c43758-2e73-417b-e9b0-f51bfc69871e",
        "colab": {
          "base_uri": "https://localhost:8080/",
          "height": 34
        }
      },
      "cell_type": "code",
      "source": [
        "a = 3\n",
        "b = 2\n",
        "print(a*b,a/b,a+b,a-b,a**b)"
      ],
      "execution_count": 0,
      "outputs": [
        {
          "output_type": "stream",
          "text": [
            "6 1.5 5 1 9\n"
          ],
          "name": "stdout"
        }
      ]
    },
    {
      "metadata": {
        "id": "VIeftfzZik4p",
        "colab_type": "code",
        "outputId": "25ba8d7c-cd34-4c96-bd23-0321f71c82cc",
        "colab": {
          "base_uri": "https://localhost:8080/",
          "height": 34
        }
      },
      "cell_type": "code",
      "source": [
        "is_android = False\n",
        "type(is_android)"
      ],
      "execution_count": 0,
      "outputs": [
        {
          "output_type": "execute_result",
          "data": {
            "text/plain": [
              "bool"
            ]
          },
          "metadata": {
            "tags": []
          },
          "execution_count": 22
        }
      ]
    },
    {
      "metadata": {
        "id": "RD4qEjwBitby",
        "colab_type": "code",
        "outputId": "f7092e04-aa43-489f-b9c4-8d3d72d085d7",
        "colab": {
          "base_uri": "https://localhost:8080/",
          "height": 34
        }
      },
      "cell_type": "code",
      "source": [
        "print(is_android==True)\n"
      ],
      "execution_count": 0,
      "outputs": [
        {
          "output_type": "stream",
          "text": [
            "False\n"
          ],
          "name": "stdout"
        }
      ]
    },
    {
      "metadata": {
        "id": "OUVWJa1jizGh",
        "colab_type": "code",
        "outputId": "7ddf4801-1642-4698-f97f-86868faaa96d",
        "colab": {
          "base_uri": "https://localhost:8080/",
          "height": 34
        }
      },
      "cell_type": "code",
      "source": [
        "print(is_android==False and num_of_speakers>1)"
      ],
      "execution_count": 0,
      "outputs": [
        {
          "output_type": "stream",
          "text": [
            "False\n"
          ],
          "name": "stdout"
        }
      ]
    },
    {
      "metadata": {
        "id": "8r9QmUgdi9xu",
        "colab_type": "code",
        "outputId": "82af4db4-59bf-4da8-9a96-1d19e9babc24",
        "colab": {
          "base_uri": "https://localhost:8080/",
          "height": 34
        }
      },
      "cell_type": "code",
      "source": [
        "if is_android==True:\n",
        "  print(name+'supports Android')\n",
        "  print('continuing to print inside if block')\n",
        "print('Printing this outside the block')"
      ],
      "execution_count": 0,
      "outputs": [
        {
          "output_type": "stream",
          "text": [
            "Printing this outside the block\n"
          ],
          "name": "stdout"
        }
      ]
    },
    {
      "metadata": {
        "id": "u75f6IxjjWAZ",
        "colab_type": "code",
        "outputId": "eff62bd1-bf3b-4a3a-8e7b-ac2eb4731180",
        "colab": {
          "base_uri": "https://localhost:8080/",
          "height": 104
        }
      },
      "cell_type": "code",
      "source": [
        "for i in range(5):\n",
        "  print(i,i**2)"
      ],
      "execution_count": 0,
      "outputs": [
        {
          "output_type": "stream",
          "text": [
            "0 0\n",
            "1 1\n",
            "2 4\n",
            "3 9\n",
            "4 16\n"
          ],
          "name": "stdout"
        }
      ]
    },
    {
      "metadata": {
        "id": "2yEIhT8pjh0F",
        "colab_type": "code",
        "outputId": "4523a06e-728d-4ce8-ee67-083ba0c3d299",
        "colab": {
          "base_uri": "https://localhost:8080/",
          "height": 104
        }
      },
      "cell_type": "code",
      "source": [
        "i = 0\n",
        "while i<5:\n",
        "  print(i,i**2)\n",
        "  i += 1 #equivalent to i=i+1\n",
        "  "
      ],
      "execution_count": 0,
      "outputs": [
        {
          "output_type": "stream",
          "text": [
            "0 0\n",
            "1 1\n",
            "2 4\n",
            "3 9\n",
            "4 16\n"
          ],
          "name": "stdout"
        }
      ]
    },
    {
      "metadata": {
        "id": "w3KIc3Yi7a7i",
        "colab_type": "code",
        "colab": {}
      },
      "cell_type": "code",
      "source": [
        "def print_squares(stop_val):\n",
        "  for i in range(stop_val):\n",
        "    print(i,i**2)"
      ],
      "execution_count": 0,
      "outputs": []
    },
    {
      "metadata": {
        "id": "uwFlAdRY7oP0",
        "colab_type": "code",
        "outputId": "e2897a8b-5134-4f64-aec0-473d3036fb1e",
        "colab": {
          "base_uri": "https://localhost:8080/",
          "height": 69
        }
      },
      "cell_type": "code",
      "source": [
        "print_squares(3)"
      ],
      "execution_count": 0,
      "outputs": [
        {
          "output_type": "stream",
          "text": [
            "0 0\n",
            "1 1\n",
            "2 4\n"
          ],
          "name": "stdout"
        }
      ]
    },
    {
      "metadata": {
        "id": "v8zKHwmd7q8f",
        "colab_type": "code",
        "colab": {}
      },
      "cell_type": "code",
      "source": [
        "def sum_of_squares(stop_val):\n",
        "  sum_ = 0\n",
        "  for i in range(stop_val):\n",
        "    sum_ += i**2\n",
        "  return sum_"
      ],
      "execution_count": 0,
      "outputs": []
    },
    {
      "metadata": {
        "id": "HBn3tV_479Po",
        "colab_type": "code",
        "colab": {}
      },
      "cell_type": "code",
      "source": [
        "sum = sum_of_squares(5)"
      ],
      "execution_count": 0,
      "outputs": []
    },
    {
      "metadata": {
        "id": "_ObuCdkK8AMv",
        "colab_type": "code",
        "colab": {}
      },
      "cell_type": "code",
      "source": [
        "def print_squares_with_startval(stop_val,start_val=0):\n",
        "  \"\"\"Prints squares with a start value and a stop value\"\"\"\n",
        "  for i in range(start_val, stop_val):\n",
        "    print(i,i**2)"
      ],
      "execution_count": 0,
      "outputs": []
    },
    {
      "metadata": {
        "id": "ffG1UWfw8qJL",
        "colab_type": "code",
        "outputId": "6608b95a-58e1-4f34-8ae1-4bb60a25d660",
        "colab": {
          "base_uri": "https://localhost:8080/",
          "height": 69
        }
      },
      "cell_type": "code",
      "source": [
        "print_squares_with_startval(5,2)"
      ],
      "execution_count": 0,
      "outputs": [
        {
          "output_type": "stream",
          "text": [
            "2 4\n",
            "3 9\n",
            "4 16\n"
          ],
          "name": "stdout"
        }
      ]
    },
    {
      "metadata": {
        "id": "4mJ54VApFEyZ",
        "colab_type": "text"
      },
      "cell_type": "markdown",
      "source": [
        "# Lists"
      ]
    },
    {
      "metadata": {
        "id": "9xBdfrBE9RjV",
        "colab_type": "code",
        "outputId": "c9dbb2e4-1142-4a7e-9a63-0ba98d61f739",
        "colab": {
          "base_uri": "https://localhost:8080/",
          "height": 34
        }
      },
      "cell_type": "code",
      "source": [
        "my_phone = [name,is_android,screen_size]\n",
        "type(my_phone)\n"
      ],
      "execution_count": 0,
      "outputs": [
        {
          "output_type": "execute_result",
          "data": {
            "text/plain": [
              "list"
            ]
          },
          "metadata": {
            "tags": []
          },
          "execution_count": 26
        }
      ]
    },
    {
      "metadata": {
        "id": "Ta7dJDnrFUoc",
        "colab_type": "code",
        "outputId": "10866474-4f10-461a-b007-9c452d8d1011",
        "colab": {
          "base_uri": "https://localhost:8080/",
          "height": 34
        }
      },
      "cell_type": "code",
      "source": [
        "print(my_phone)"
      ],
      "execution_count": 0,
      "outputs": [
        {
          "output_type": "stream",
          "text": [
            "['iPhone 5s', False, 4.3]\n"
          ],
          "name": "stdout"
        }
      ]
    },
    {
      "metadata": {
        "id": "lMIP5UnoF2kG",
        "colab_type": "code",
        "outputId": "f42cacd1-9aec-49f9-8162-e04677924b6e",
        "colab": {
          "base_uri": "https://localhost:8080/",
          "height": 34
        }
      },
      "cell_type": "code",
      "source": [
        "type(my_phone[1])"
      ],
      "execution_count": 0,
      "outputs": [
        {
          "output_type": "execute_result",
          "data": {
            "text/plain": [
              "bool"
            ]
          },
          "metadata": {
            "tags": []
          },
          "execution_count": 28
        }
      ]
    },
    {
      "metadata": {
        "id": "1x5xG75UF7B4",
        "colab_type": "code",
        "outputId": "c9da2b80-6648-49a0-9186-2fb6ebfe7161",
        "colab": {
          "base_uri": "https://localhost:8080/",
          "height": 34
        }
      },
      "cell_type": "code",
      "source": [
        "my_phone[0:1]"
      ],
      "execution_count": 0,
      "outputs": [
        {
          "output_type": "execute_result",
          "data": {
            "text/plain": [
              "['iPhone 5s']"
            ]
          },
          "metadata": {
            "tags": []
          },
          "execution_count": 33
        }
      ]
    },
    {
      "metadata": {
        "id": "J1rf210EF932",
        "colab_type": "code",
        "colab": {}
      },
      "cell_type": "code",
      "source": [
        "my_dads_phone = my_phone #soft copy"
      ],
      "execution_count": 0,
      "outputs": []
    },
    {
      "metadata": {
        "id": "yZ0u6CeBGM76",
        "colab_type": "code",
        "outputId": "1ee6caf5-0854-4b9e-bf2f-130d38b801d0",
        "colab": {
          "base_uri": "https://localhost:8080/",
          "height": 34
        }
      },
      "cell_type": "code",
      "source": [
        "print(my_dads_phone)"
      ],
      "execution_count": 0,
      "outputs": [
        {
          "output_type": "stream",
          "text": [
            "['iPhone 5s', False, 4.3]\n"
          ],
          "name": "stdout"
        }
      ]
    },
    {
      "metadata": {
        "id": "RbyzkjjEGQAg",
        "colab_type": "code",
        "colab": {}
      },
      "cell_type": "code",
      "source": [
        "my_phone[2] = 4"
      ],
      "execution_count": 0,
      "outputs": []
    },
    {
      "metadata": {
        "id": "NSjspjTYGXQ2",
        "colab_type": "code",
        "outputId": "a34ee866-378f-48c3-855c-7969dcfe9c28",
        "colab": {
          "base_uri": "https://localhost:8080/",
          "height": 34
        }
      },
      "cell_type": "code",
      "source": [
        "print(my_phone)"
      ],
      "execution_count": 0,
      "outputs": [
        {
          "output_type": "stream",
          "text": [
            "['iPhone 5s', False, 4]\n"
          ],
          "name": "stdout"
        }
      ]
    },
    {
      "metadata": {
        "id": "CdAWMPTpGaDt",
        "colab_type": "code",
        "outputId": "cae3975e-e0a5-44a5-e92d-3f33b170f5f0",
        "colab": {
          "base_uri": "https://localhost:8080/",
          "height": 34
        }
      },
      "cell_type": "code",
      "source": [
        "print(my_dads_phone) "
      ],
      "execution_count": 0,
      "outputs": [
        {
          "output_type": "stream",
          "text": [
            "['iPhone 5s', False, 4]\n"
          ],
          "name": "stdout"
        }
      ]
    },
    {
      "metadata": {
        "id": "hxcgE4zyGdI8",
        "colab_type": "code",
        "colab": {}
      },
      "cell_type": "code",
      "source": [
        "my_dads_phone = list(my_phone)\n",
        "#my_dads_phone = my_phone[:]"
      ],
      "execution_count": 0,
      "outputs": []
    },
    {
      "metadata": {
        "id": "k9z6h7SsGtz_",
        "colab_type": "code",
        "colab": {}
      },
      "cell_type": "code",
      "source": [
        "my_phone[2]=4.3"
      ],
      "execution_count": 0,
      "outputs": []
    },
    {
      "metadata": {
        "id": "-JWtLlhuGxS8",
        "colab_type": "code",
        "outputId": "ede7d950-33fd-46ec-ce7d-61cbfcdc2a45",
        "colab": {
          "base_uri": "https://localhost:8080/",
          "height": 34
        }
      },
      "cell_type": "code",
      "source": [
        "print(my_phone)"
      ],
      "execution_count": 0,
      "outputs": [
        {
          "output_type": "stream",
          "text": [
            "['iPhone 5s', False, 4.3]\n"
          ],
          "name": "stdout"
        }
      ]
    },
    {
      "metadata": {
        "id": "9GhWTCNzG4Ei",
        "colab_type": "code",
        "outputId": "e1209b0b-7dbd-494e-fe15-96033dc210ab",
        "colab": {
          "base_uri": "https://localhost:8080/",
          "height": 34
        }
      },
      "cell_type": "code",
      "source": [
        "print(my_dads_phone)"
      ],
      "execution_count": 0,
      "outputs": [
        {
          "output_type": "stream",
          "text": [
            "['iPhone 5s', False, 4]\n"
          ],
          "name": "stdout"
        }
      ]
    },
    {
      "metadata": {
        "id": "iChQkemKHCJe",
        "colab_type": "code",
        "outputId": "5e1c2b66-493d-43d2-c3ee-cecfcd7be9df",
        "colab": {
          "base_uri": "https://localhost:8080/",
          "height": 34
        }
      },
      "cell_type": "code",
      "source": [
        "len(my_phone)"
      ],
      "execution_count": 0,
      "outputs": [
        {
          "output_type": "execute_result",
          "data": {
            "text/plain": [
              "4"
            ]
          },
          "metadata": {
            "tags": []
          },
          "execution_count": 49
        }
      ]
    },
    {
      "metadata": {
        "id": "WRZjYDq6HJGI",
        "colab_type": "code",
        "colab": {}
      },
      "cell_type": "code",
      "source": [
        "my_phone.append('3G')"
      ],
      "execution_count": 0,
      "outputs": []
    },
    {
      "metadata": {
        "id": "iP8vgLscHdUz",
        "colab_type": "code",
        "outputId": "88697fa8-101e-4308-ab2e-a1d1bc6f58f6",
        "colab": {
          "base_uri": "https://localhost:8080/",
          "height": 34
        }
      },
      "cell_type": "code",
      "source": [
        "print(my_phone)"
      ],
      "execution_count": 0,
      "outputs": [
        {
          "output_type": "stream",
          "text": [
            "['iPhone 5s', False, 4.3, '3G']\n"
          ],
          "name": "stdout"
        }
      ]
    },
    {
      "metadata": {
        "id": "YgG8LnvpHfBa",
        "colab_type": "code",
        "colab": {}
      },
      "cell_type": "code",
      "source": [
        "iPhone5s_some_prefs = ['single sim',35000]"
      ],
      "execution_count": 0,
      "outputs": []
    },
    {
      "metadata": {
        "id": "0el2n-reHx0t",
        "colab_type": "code",
        "colab": {}
      },
      "cell_type": "code",
      "source": [
        "my_phone = my_phone + iPhone5s_some_prefs"
      ],
      "execution_count": 0,
      "outputs": []
    },
    {
      "metadata": {
        "id": "570KPEG1H62c",
        "colab_type": "code",
        "outputId": "d0fe4c6b-a431-4889-d806-c8ac3a9b419d",
        "colab": {
          "base_uri": "https://localhost:8080/",
          "height": 34
        }
      },
      "cell_type": "code",
      "source": [
        "print(my_phone)"
      ],
      "execution_count": 0,
      "outputs": [
        {
          "output_type": "stream",
          "text": [
            "['iPhone 5s', False, 4.3, '3G', 'single sim', 35000]\n"
          ],
          "name": "stdout"
        }
      ]
    },
    {
      "metadata": {
        "id": "1AC9JaSxH85z",
        "colab_type": "code",
        "outputId": "3dce3834-5230-4950-ca0a-5163590f3220",
        "colab": {
          "base_uri": "https://localhost:8080/",
          "height": 121
        }
      },
      "cell_type": "code",
      "source": [
        "for data in my_phone:\n",
        "  print(data)"
      ],
      "execution_count": 0,
      "outputs": [
        {
          "output_type": "stream",
          "text": [
            "iPhone 5s\n",
            "False\n",
            "4.3\n",
            "3G\n",
            "single sim\n",
            "35000\n"
          ],
          "name": "stdout"
        }
      ]
    },
    {
      "metadata": {
        "id": "ApaI55-UIFlg",
        "colab_type": "code",
        "outputId": "fcdd6de2-8c98-4f8c-e2c5-997642769b06",
        "colab": {
          "base_uri": "https://localhost:8080/",
          "height": 34
        }
      },
      "cell_type": "code",
      "source": [
        "print(list(range(5)))"
      ],
      "execution_count": 0,
      "outputs": [
        {
          "output_type": "stream",
          "text": [
            "[0, 1, 2, 3, 4]\n"
          ],
          "name": "stdout"
        }
      ]
    },
    {
      "metadata": {
        "id": "5eWEJEkvIPrA",
        "colab_type": "code",
        "colab": {}
      },
      "cell_type": "code",
      "source": [
        "a = list(range(5))"
      ],
      "execution_count": 0,
      "outputs": []
    },
    {
      "metadata": {
        "id": "WhznbNH2ISK_",
        "colab_type": "code",
        "outputId": "28d7d117-5707-475a-e5df-4129d3e8db55",
        "colab": {
          "base_uri": "https://localhost:8080/",
          "height": 34
        }
      },
      "cell_type": "code",
      "source": [
        "print(a)"
      ],
      "execution_count": 0,
      "outputs": [
        {
          "output_type": "stream",
          "text": [
            "[0, 1, 2, 3, 4]\n"
          ],
          "name": "stdout"
        }
      ]
    },
    {
      "metadata": {
        "id": "AfTYjB-uIT8s",
        "colab_type": "code",
        "colab": {}
      },
      "cell_type": "code",
      "source": [
        "b = list(map(lambda x:x**2,a)) \n",
        "#Maps, Modifies, and returns a list as per the lambda function"
      ],
      "execution_count": 0,
      "outputs": []
    },
    {
      "metadata": {
        "id": "g6Ugl7bKJQni",
        "colab_type": "text"
      },
      "cell_type": "markdown",
      "source": [
        "> **lambda arguments: expression**.\n",
        "> This function can have any number of arguments but only one expression, which is evaluated and returned.\n",
        "[Refer Geeksforgeeks](https://www.geeksforgeeks.org/python-lambda-anonymous-functions-filter-map-reduce/)\n",
        "\n",
        "\n"
      ]
    },
    {
      "metadata": {
        "id": "NXRSwyM8IbLb",
        "colab_type": "code",
        "outputId": "23d7a31a-4b95-4ea2-f924-3c6f97ac8523",
        "colab": {
          "base_uri": "https://localhost:8080/",
          "height": 34
        }
      },
      "cell_type": "code",
      "source": [
        "print(b)"
      ],
      "execution_count": 0,
      "outputs": [
        {
          "output_type": "stream",
          "text": [
            "[0, 1, 4, 9, 16]\n"
          ],
          "name": "stdout"
        }
      ]
    },
    {
      "metadata": {
        "id": "4iee9WoCIcaV",
        "colab_type": "code",
        "colab": {}
      },
      "cell_type": "code",
      "source": [
        "c = list(filter(lambda x:x%2==0,b))\n",
        "#Filters out the even numbers from list b as mentioned in the lambda function"
      ],
      "execution_count": 0,
      "outputs": []
    },
    {
      "metadata": {
        "id": "0aUnQrr2IlYZ",
        "colab_type": "code",
        "outputId": "933b22f1-ba22-4522-84fe-912201488698",
        "colab": {
          "base_uri": "https://localhost:8080/",
          "height": 34
        }
      },
      "cell_type": "code",
      "source": [
        "print(c)"
      ],
      "execution_count": 0,
      "outputs": [
        {
          "output_type": "stream",
          "text": [
            "[0, 4, 16]\n"
          ],
          "name": "stdout"
        }
      ]
    },
    {
      "metadata": {
        "id": "aPn_hxdQTHkS",
        "colab_type": "text"
      },
      "cell_type": "markdown",
      "source": [
        "#Tuples"
      ]
    },
    {
      "metadata": {
        "id": "WlkibqsdTJN8",
        "colab_type": "code",
        "colab": {}
      },
      "cell_type": "code",
      "source": [
        "my_phone_tuple = ('iPhone5s',False,4.3)"
      ],
      "execution_count": 0,
      "outputs": []
    },
    {
      "metadata": {
        "id": "OaIoDNh8T7d5",
        "colab_type": "code",
        "colab": {
          "base_uri": "https://localhost:8080/",
          "height": 34
        },
        "outputId": "1c1de35b-bd69-4073-9025-c3c2b61dfbce"
      },
      "cell_type": "code",
      "source": [
        "print(my_phone_tuple)"
      ],
      "execution_count": 63,
      "outputs": [
        {
          "output_type": "stream",
          "text": [
            "('iPhone5s', False, 4.3)\n"
          ],
          "name": "stdout"
        }
      ]
    },
    {
      "metadata": {
        "id": "rOspO-3EUAJh",
        "colab_type": "code",
        "colab": {
          "base_uri": "https://localhost:8080/",
          "height": 34
        },
        "outputId": "2a47e0d7-6782-4994-9178-425059f39178"
      },
      "cell_type": "code",
      "source": [
        "type(my_phone_tuple)"
      ],
      "execution_count": 64,
      "outputs": [
        {
          "output_type": "execute_result",
          "data": {
            "text/plain": [
              "tuple"
            ]
          },
          "metadata": {
            "tags": []
          },
          "execution_count": 64
        }
      ]
    },
    {
      "metadata": {
        "id": "t621u12QUDOZ",
        "colab_type": "code",
        "colab": {
          "base_uri": "https://localhost:8080/",
          "height": 34
        },
        "outputId": "ac9820e2-d08f-4b7d-8e3d-6779ca8be8a2"
      },
      "cell_type": "code",
      "source": [
        "my_phone_tuple[0:2]"
      ],
      "execution_count": 67,
      "outputs": [
        {
          "output_type": "execute_result",
          "data": {
            "text/plain": [
              "('iPhone5s', False)"
            ]
          },
          "metadata": {
            "tags": []
          },
          "execution_count": 67
        }
      ]
    },
    {
      "metadata": {
        "id": "B_9mG4laUH6l",
        "colab_type": "code",
        "colab": {
          "base_uri": "https://localhost:8080/",
          "height": 69
        },
        "outputId": "f22afb79-15a6-4ec8-e7f8-5b0e82e208f8"
      },
      "cell_type": "code",
      "source": [
        "for data in my_phone_tuple:\n",
        "  print(data)"
      ],
      "execution_count": 68,
      "outputs": [
        {
          "output_type": "stream",
          "text": [
            "iPhone5s\n",
            "False\n",
            "4.3\n"
          ],
          "name": "stdout"
        }
      ]
    },
    {
      "metadata": {
        "id": "brMpuTI6U4pP",
        "colab_type": "code",
        "colab": {}
      },
      "cell_type": "code",
      "source": [
        "my_phone_tuple[2]=4 #This generates an error as tuples are immutable"
      ],
      "execution_count": 0,
      "outputs": []
    },
    {
      "metadata": {
        "id": "yQgtZGaXVAwk",
        "colab_type": "code",
        "colab": {
          "base_uri": "https://localhost:8080/",
          "height": 34
        },
        "outputId": "91fbb1c1-50cd-4c83-df58-dedc511b0adb"
      },
      "cell_type": "code",
      "source": [
        "import time\n",
        "tic = time.time()\n",
        "toc = time.time()\n",
        "print('Elapsed time in seconds',toc-tic)"
      ],
      "execution_count": 70,
      "outputs": [
        {
          "output_type": "stream",
          "text": [
            "Elapsed time in seconds 1.52587890625e-05\n"
          ],
          "name": "stdout"
        }
      ]
    },
    {
      "metadata": {
        "id": "P4zSfXwDVWqW",
        "colab_type": "code",
        "colab": {
          "base_uri": "https://localhost:8080/",
          "height": 34
        },
        "outputId": "cb93a943-aa29-4f36-d3d5-3ed3e625afa5"
      },
      "cell_type": "code",
      "source": [
        "my_list = list(range(1000000))\n",
        "tic = time.time()\n",
        "my_list_squared = map(lambda i:i**2,my_list)\n",
        "toc = time.time()\n",
        "print('Elapsed time in seconds',toc-tic)"
      ],
      "execution_count": 72,
      "outputs": [
        {
          "output_type": "stream",
          "text": [
            "Elapsed time in seconds 0.00014281272888183594\n"
          ],
          "name": "stdout"
        }
      ]
    },
    {
      "metadata": {
        "id": "tP0DSNXKVy34",
        "colab_type": "code",
        "colab": {
          "base_uri": "https://localhost:8080/",
          "height": 34
        },
        "outputId": "2e1ada2a-f999-4165-dfac-eb611fa75480"
      },
      "cell_type": "code",
      "source": [
        "my_tuple = tuple(range(1000000))\n",
        "tic = time.time()\n",
        "my_tuple_squared = map(lambda i:i**2,my_tuple)\n",
        "toc = time.time()\n",
        "print('Elapsed time in seconds',toc-tic)"
      ],
      "execution_count": 73,
      "outputs": [
        {
          "output_type": "stream",
          "text": [
            "Elapsed time in seconds 0.00010776519775390625\n"
          ],
          "name": "stdout"
        }
      ]
    },
    {
      "metadata": {
        "id": "Vne4gS4zWC5y",
        "colab_type": "code",
        "colab": {}
      },
      "cell_type": "code",
      "source": [
        "#Tuples execute faster than lists"
      ],
      "execution_count": 0,
      "outputs": []
    },
    {
      "metadata": {
        "id": "HciIPTLaWI11",
        "colab_type": "code",
        "colab": {}
      },
      "cell_type": "code",
      "source": [
        ""
      ],
      "execution_count": 0,
      "outputs": []
    },
    {
      "metadata": {
        "id": "vgBOsKGFWLZz",
        "colab_type": "text"
      },
      "cell_type": "markdown",
      "source": [
        "#Sets"
      ]
    },
    {
      "metadata": {
        "id": "a-V6Aa3CWNEY",
        "colab_type": "code",
        "colab": {}
      },
      "cell_type": "code",
      "source": [
        "my_set = set(my_phone)"
      ],
      "execution_count": 0,
      "outputs": []
    },
    {
      "metadata": {
        "id": "547dAGxEWSPH",
        "colab_type": "code",
        "colab": {
          "base_uri": "https://localhost:8080/",
          "height": 34
        },
        "outputId": "67730455-0cd6-468c-a24f-d77d369c9a6e"
      },
      "cell_type": "code",
      "source": [
        "print(my_set)"
      ],
      "execution_count": 76,
      "outputs": [
        {
          "output_type": "stream",
          "text": [
            "{False, 4.3, '3G', 'single sim', 'iPhone 5s', 35000}\n"
          ],
          "name": "stdout"
        }
      ]
    },
    {
      "metadata": {
        "id": "HTtFgOoIWU3f",
        "colab_type": "code",
        "colab": {}
      },
      "cell_type": "code",
      "source": [
        "my_phone.append(4.3)"
      ],
      "execution_count": 0,
      "outputs": []
    },
    {
      "metadata": {
        "id": "Of1SMCIxWZVL",
        "colab_type": "code",
        "colab": {
          "base_uri": "https://localhost:8080/",
          "height": 34
        },
        "outputId": "18940f5c-eaed-42bd-e761-b9e3b36565b0"
      },
      "cell_type": "code",
      "source": [
        "print(my_phone)"
      ],
      "execution_count": 78,
      "outputs": [
        {
          "output_type": "stream",
          "text": [
            "['iPhone 5s', False, 4.3, '3G', 'single sim', 35000, 4.3]\n"
          ],
          "name": "stdout"
        }
      ]
    },
    {
      "metadata": {
        "id": "Af1EvBbQWtsV",
        "colab_type": "code",
        "colab": {}
      },
      "cell_type": "code",
      "source": [
        "my_set = set(my_phone) #Sets ignores duplicate values"
      ],
      "execution_count": 0,
      "outputs": []
    },
    {
      "metadata": {
        "id": "L-49S0_hWydG",
        "colab_type": "code",
        "colab": {
          "base_uri": "https://localhost:8080/",
          "height": 34
        },
        "outputId": "9ac5ef07-b597-47e1-f317-8e9541eee280"
      },
      "cell_type": "code",
      "source": [
        "print(my_set)"
      ],
      "execution_count": 80,
      "outputs": [
        {
          "output_type": "stream",
          "text": [
            "{False, 4.3, '3G', 'single sim', 'iPhone 5s', 35000}\n"
          ],
          "name": "stdout"
        }
      ]
    },
    {
      "metadata": {
        "id": "PcnmOD4RW0kS",
        "colab_type": "code",
        "colab": {
          "base_uri": "https://localhost:8080/",
          "height": 86
        },
        "outputId": "0800480b-cb24-46ec-cf13-4ec381a9098f"
      },
      "cell_type": "code",
      "source": [
        "my_list = list(range(1000000))\n",
        "tic = time.time()\n",
        "print(98731 in my_list)\n",
        "print(131591 in my_list)\n",
        "print(1111111111 in my_list)\n",
        "toc = time.time()\n",
        "print('Elapsed time',toc-tic) \n",
        "#Executes slower than set"
      ],
      "execution_count": 82,
      "outputs": [
        {
          "output_type": "stream",
          "text": [
            "True\n",
            "True\n",
            "False\n",
            "Elapsed time 0.015254020690917969\n"
          ],
          "name": "stdout"
        }
      ]
    },
    {
      "metadata": {
        "id": "TXHtu_sxXDts",
        "colab_type": "code",
        "colab": {
          "base_uri": "https://localhost:8080/",
          "height": 86
        },
        "outputId": "ee3bef08-98d5-4ea5-face-6113aff57029"
      },
      "cell_type": "code",
      "source": [
        "my_set = set(range(1000000))\n",
        "tic = time.time()\n",
        "print(98731 in my_set)\n",
        "print(131591 in my_set)\n",
        "print(1111111111 in my_set)\n",
        "toc = time.time()\n",
        "print('Elapsed time',toc-tic)\n",
        "#Executes faster than List"
      ],
      "execution_count": 84,
      "outputs": [
        {
          "output_type": "stream",
          "text": [
            "True\n",
            "True\n",
            "False\n",
            "Elapsed time 0.00045013427734375\n"
          ],
          "name": "stdout"
        }
      ]
    },
    {
      "metadata": {
        "id": "wGY-rvz-X8Ss",
        "colab_type": "text"
      },
      "cell_type": "markdown",
      "source": [
        ""
      ]
    },
    {
      "metadata": {
        "id": "RCzJHG3OX-Yu",
        "colab_type": "text"
      },
      "cell_type": "markdown",
      "source": [
        "#Dictionary"
      ]
    },
    {
      "metadata": {
        "id": "WlVjbzN9YCOg",
        "colab_type": "code",
        "colab": {}
      },
      "cell_type": "code",
      "source": [
        "my_phone_dict = {}\n"
      ],
      "execution_count": 0,
      "outputs": []
    },
    {
      "metadata": {
        "id": "RPwHbqzXYJ2V",
        "colab_type": "code",
        "colab": {
          "base_uri": "https://localhost:8080/",
          "height": 34
        },
        "outputId": "1642a0ba-247c-45cd-d11e-8bb59bed4111"
      },
      "cell_type": "code",
      "source": [
        "type(my_phone_dict)"
      ],
      "execution_count": 86,
      "outputs": [
        {
          "output_type": "execute_result",
          "data": {
            "text/plain": [
              "dict"
            ]
          },
          "metadata": {
            "tags": []
          },
          "execution_count": 86
        }
      ]
    },
    {
      "metadata": {
        "id": "8P5vSEYjYOBx",
        "colab_type": "code",
        "colab": {
          "base_uri": "https://localhost:8080/",
          "height": 34
        },
        "outputId": "62c785eb-5cd6-431c-93e5-7984143ad285"
      },
      "cell_type": "code",
      "source": [
        "my_phone_dict['name']='iPhone 5s'\n",
        "my_phone_dict['isAndroid']=False\n",
        "my_phone_dict['screensize']=4.3\n",
        "print(my_phone_dict)"
      ],
      "execution_count": 87,
      "outputs": [
        {
          "output_type": "stream",
          "text": [
            "{'name': 'iPhone 5s', 'isAndroid': False, 'screensize': 4.3}\n"
          ],
          "name": "stdout"
        }
      ]
    },
    {
      "metadata": {
        "id": "aSksnF__YkIa",
        "colab_type": "code",
        "colab": {
          "base_uri": "https://localhost:8080/",
          "height": 34
        },
        "outputId": "7b26056a-e57a-4dc1-acfb-71a90b6000f3"
      },
      "cell_type": "code",
      "source": [
        "print(my_phone_dict.keys())"
      ],
      "execution_count": 88,
      "outputs": [
        {
          "output_type": "stream",
          "text": [
            "dict_keys(['name', 'isAndroid', 'screensize'])\n"
          ],
          "name": "stdout"
        }
      ]
    },
    {
      "metadata": {
        "id": "Qslkcfe3YpEH",
        "colab_type": "code",
        "colab": {
          "base_uri": "https://localhost:8080/",
          "height": 34
        },
        "outputId": "51f9698e-e4e1-46db-dff1-b92860fb9e88"
      },
      "cell_type": "code",
      "source": [
        "print(my_phone_dict.values())"
      ],
      "execution_count": 89,
      "outputs": [
        {
          "output_type": "stream",
          "text": [
            "dict_values(['iPhone 5s', False, 4.3])\n"
          ],
          "name": "stdout"
        }
      ]
    },
    {
      "metadata": {
        "id": "CdLTdG0RYvCN",
        "colab_type": "code",
        "colab": {
          "base_uri": "https://localhost:8080/",
          "height": 34
        },
        "outputId": "c1fdbd12-76f1-43dc-9682-a55982f54ee7"
      },
      "cell_type": "code",
      "source": [
        "print(my_phone_dict.items())"
      ],
      "execution_count": 90,
      "outputs": [
        {
          "output_type": "stream",
          "text": [
            "dict_items([('name', 'iPhone 5s'), ('isAndroid', False), ('screensize', 4.3)])\n"
          ],
          "name": "stdout"
        }
      ]
    },
    {
      "metadata": {
        "id": "UROsRl06Y1Zy",
        "colab_type": "code",
        "colab": {
          "base_uri": "https://localhost:8080/",
          "height": 69
        },
        "outputId": "62ada823-9b83-4252-da64-14d599b90030"
      },
      "cell_type": "code",
      "source": [
        "for key in my_phone_dict.keys():\n",
        "  print(key,':',my_phone_dict[key])"
      ],
      "execution_count": 91,
      "outputs": [
        {
          "output_type": "stream",
          "text": [
            "name : iPhone 5s\n",
            "isAndroid : False\n",
            "screensize : 4.3\n"
          ],
          "name": "stdout"
        }
      ]
    },
    {
      "metadata": {
        "id": "r3Fu-I8RZJfh",
        "colab_type": "code",
        "colab": {}
      },
      "cell_type": "code",
      "source": [
        ""
      ],
      "execution_count": 0,
      "outputs": []
    },
    {
      "metadata": {
        "id": "AagAxw4dZ4Nf",
        "colab_type": "text"
      },
      "cell_type": "markdown",
      "source": [
        "#Packages"
      ]
    },
    {
      "metadata": {
        "id": "2_uFdllLZ53L",
        "colab_type": "code",
        "colab": {}
      },
      "cell_type": "code",
      "source": [
        "import math as m\n",
        "a = m.sqrt(100)"
      ],
      "execution_count": 0,
      "outputs": []
    },
    {
      "metadata": {
        "id": "4u2ewQTHeSOk",
        "colab_type": "code",
        "colab": {
          "base_uri": "https://localhost:8080/",
          "height": 34
        },
        "outputId": "c8c770c6-ea5a-46e6-caae-dff7bf737825"
      },
      "cell_type": "code",
      "source": [
        "print(a)"
      ],
      "execution_count": 93,
      "outputs": [
        {
          "output_type": "stream",
          "text": [
            "10.0\n"
          ],
          "name": "stdout"
        }
      ]
    },
    {
      "metadata": {
        "id": "oixHgHu0eTr9",
        "colab_type": "code",
        "colab": {
          "base_uri": "https://localhost:8080/",
          "height": 34
        },
        "outputId": "b847d1de-8d1f-4b71-de3a-690c4276f750"
      },
      "cell_type": "code",
      "source": [
        "a = m.pow(100,0.5)\n",
        "print(a)"
      ],
      "execution_count": 94,
      "outputs": [
        {
          "output_type": "stream",
          "text": [
            "10.0\n"
          ],
          "name": "stdout"
        }
      ]
    },
    {
      "metadata": {
        "id": "9dO7wPoneYyV",
        "colab_type": "code",
        "colab": {}
      },
      "cell_type": "code",
      "source": [
        "y = m.factorial(100)"
      ],
      "execution_count": 0,
      "outputs": []
    },
    {
      "metadata": {
        "id": "uTs72eusekrb",
        "colab_type": "code",
        "colab": {
          "base_uri": "https://localhost:8080/",
          "height": 54
        },
        "outputId": "089fe35a-216c-4965-d9a7-32b3467d8b1b"
      },
      "cell_type": "code",
      "source": [
        "print(y)"
      ],
      "execution_count": 96,
      "outputs": [
        {
          "output_type": "stream",
          "text": [
            "93326215443944152681699238856266700490715968264381621468592963895217599993229915608941463976156518286253697920827223758251185210916864000000000000000000000000\n"
          ],
          "name": "stdout"
        }
      ]
    },
    {
      "metadata": {
        "id": "5Dt1GZk5emK4",
        "colab_type": "code",
        "colab": {
          "base_uri": "https://localhost:8080/",
          "height": 52
        },
        "outputId": "818bad61-9edd-4ae6-b163-994925ee2b30"
      },
      "cell_type": "code",
      "source": [
        "vals = list(range(1,100))\n",
        "tic = time.time()\n",
        "for x in vals:\n",
        "  y=1\n",
        "  for i in range(1,x):\n",
        "    y*=i\n",
        "toc =time.time()\n",
        "print('Elapsed time in secs without own function ',toc-tic)\n",
        "\n",
        "tic = time.time()\n",
        "for x in vals:\n",
        "  y = m.factorial(x) #usage os inbuilt function makes the computation faster than above\n",
        "toc = time.time()\n",
        "print('Elapsed time in secs with own function ',toc-tic)"
      ],
      "execution_count": 99,
      "outputs": [
        {
          "output_type": "stream",
          "text": [
            "Elapsed time in secs without own function  0.0008072853088378906\n",
            "Elapsed time in secs with own function  0.0001163482666015625\n"
          ],
          "name": "stdout"
        }
      ]
    },
    {
      "metadata": {
        "id": "XlRYyG5XgCjB",
        "colab_type": "code",
        "colab": {
          "base_uri": "https://localhost:8080/",
          "height": 52
        },
        "outputId": "119de773-53c9-49b2-f3a7-670ca60bb1cd"
      },
      "cell_type": "code",
      "source": [
        "#Creating our own package\n",
        "!echo 'def hello():' > my_first_module.py\n",
        "!echo '    print(\"Hello, I am living in different file\")' >> my_first_module.py\n",
        "!cat my_first_module.py"
      ],
      "execution_count": 100,
      "outputs": [
        {
          "output_type": "stream",
          "text": [
            "def hello():\n",
            "    print(\"Hello, I am living in different file\")\n"
          ],
          "name": "stdout"
        }
      ]
    },
    {
      "metadata": {
        "id": "PCND38YkhAct",
        "colab_type": "code",
        "colab": {
          "base_uri": "https://localhost:8080/",
          "height": 34
        },
        "outputId": "d62aa684-0640-40de-9b2d-bf08587bc3ee"
      },
      "cell_type": "code",
      "source": [
        "import my_first_module\n",
        "\n",
        "my_first_module.hello()"
      ],
      "execution_count": 101,
      "outputs": [
        {
          "output_type": "stream",
          "text": [
            "Hello, I am living in different file\n"
          ],
          "name": "stdout"
        }
      ]
    },
    {
      "metadata": {
        "id": "U4dOWG5kkB9N",
        "colab_type": "text"
      },
      "cell_type": "markdown",
      "source": [
        "#File Handling"
      ]
    },
    {
      "metadata": {
        "id": "R0BWgAuokD6n",
        "colab_type": "code",
        "colab": {
          "base_uri": "https://localhost:8080/",
          "height": 384
        },
        "outputId": "421617a4-1477-42ff-aafb-054c0d472b6d"
      },
      "cell_type": "code",
      "source": [
        "!wget https://www.dropbox.com/s/w94odi4aq1k44lf/mobile_cleaned.csv"
      ],
      "execution_count": 102,
      "outputs": [
        {
          "output_type": "stream",
          "text": [
            "--2019-02-02 09:35:59--  https://www.dropbox.com/s/w94odi4aq1k44lf/mobile_cleaned.csv\n",
            "Resolving www.dropbox.com (www.dropbox.com)... 162.125.1.1, 2620:100:6016:1::a27d:101\n",
            "Connecting to www.dropbox.com (www.dropbox.com)|162.125.1.1|:443... connected.\n",
            "HTTP request sent, awaiting response... 301 Moved Permanently\n",
            "Location: /s/raw/w94odi4aq1k44lf/mobile_cleaned.csv [following]\n",
            "--2019-02-02 09:35:59--  https://www.dropbox.com/s/raw/w94odi4aq1k44lf/mobile_cleaned.csv\n",
            "Reusing existing connection to www.dropbox.com:443.\n",
            "HTTP request sent, awaiting response... 302 Found\n",
            "Location: https://uca71c7286bbfe851ccaedb7d2a1.dl.dropboxusercontent.com/cd/0/inline/Aai-Miq7Z7_BPvZCXACv3CRMo0a76YXePaZ4z0vkC1kAFIb834aKkbgjlgNTokv38C5AV4yPCptQMeKoXohXE_EWM2n7A9UlhguuEnXAVPiov_jbFHUF3vvRchPGAAbJffA/file# [following]\n",
            "--2019-02-02 09:35:59--  https://uca71c7286bbfe851ccaedb7d2a1.dl.dropboxusercontent.com/cd/0/inline/Aai-Miq7Z7_BPvZCXACv3CRMo0a76YXePaZ4z0vkC1kAFIb834aKkbgjlgNTokv38C5AV4yPCptQMeKoXohXE_EWM2n7A9UlhguuEnXAVPiov_jbFHUF3vvRchPGAAbJffA/file\n",
            "Resolving uca71c7286bbfe851ccaedb7d2a1.dl.dropboxusercontent.com (uca71c7286bbfe851ccaedb7d2a1.dl.dropboxusercontent.com)... 162.125.1.6, 2620:100:6016:6::a27d:106\n",
            "Connecting to uca71c7286bbfe851ccaedb7d2a1.dl.dropboxusercontent.com (uca71c7286bbfe851ccaedb7d2a1.dl.dropboxusercontent.com)|162.125.1.6|:443... connected.\n",
            "HTTP request sent, awaiting response... 200 OK\n",
            "Length: 14044 (14K) [text/plain]\n",
            "Saving to: ‘mobile_cleaned.csv’\n",
            "\n",
            "\rmobile_cleaned.csv    0%[                    ]       0  --.-KB/s               \rmobile_cleaned.csv  100%[===================>]  13.71K  --.-KB/s    in 0s      \n",
            "\n",
            "2019-02-02 09:36:00 (270 MB/s) - ‘mobile_cleaned.csv’ saved [14044/14044]\n",
            "\n"
          ],
          "name": "stdout"
        }
      ]
    },
    {
      "metadata": {
        "id": "FpMkHzZQkIum",
        "colab_type": "code",
        "colab": {
          "base_uri": "https://localhost:8080/",
          "height": 34
        },
        "outputId": "79ab3a48-6026-45c8-bc95-de417f17dcee"
      },
      "cell_type": "code",
      "source": [
        "!ls"
      ],
      "execution_count": 103,
      "outputs": [
        {
          "output_type": "stream",
          "text": [
            "mobile_cleaned.csv  my_first_module.py\t__pycache__  sample_data\n"
          ],
          "name": "stdout"
        }
      ]
    },
    {
      "metadata": {
        "id": "thpuSSRwkL88",
        "colab_type": "code",
        "colab": {}
      },
      "cell_type": "code",
      "source": [
        "file = open('mobile_cleaned.csv','r')"
      ],
      "execution_count": 0,
      "outputs": []
    },
    {
      "metadata": {
        "id": "fd8A2C3gkaNq",
        "colab_type": "code",
        "colab": {}
      },
      "cell_type": "code",
      "source": [
        "s = file.readline()"
      ],
      "execution_count": 0,
      "outputs": []
    },
    {
      "metadata": {
        "id": "D0qJDWERkdBk",
        "colab_type": "code",
        "colab": {
          "base_uri": "https://localhost:8080/",
          "height": 89
        },
        "outputId": "5fd646cd-ea1b-4121-dcfc-24565771f3f3"
      },
      "cell_type": "code",
      "source": [
        "print(s)\n",
        "type(s)"
      ],
      "execution_count": 110,
      "outputs": [
        {
          "output_type": "stream",
          "text": [
            "sim_type,aperture,gpu_rank,weight,stand_by_time,processor_frequency,thickness,flash_type,front_camera_resolution,auto_focus,screen_size,frames_per_second,FM,no_of_reviews_in_gsmarena_in_week,os,phone_height,screen_protection,sim_size,price,talk_time,video_resolution,display_resolution,removable_battery,display_type,primary_camera_resolution,battery_type,ram_memory,internal_memory,brand_rank,no_of_cores,micro_sd_slot,screen_pixel_density,water_proof_rate,phone_width,expandable_memory,version,usb_type,battery_capacity,processor_rank,is_liked\n",
            "\n"
          ],
          "name": "stdout"
        },
        {
          "output_type": "execute_result",
          "data": {
            "text/plain": [
              "str"
            ]
          },
          "metadata": {
            "tags": []
          },
          "execution_count": 110
        }
      ]
    },
    {
      "metadata": {
        "id": "YQsBfnHKkg2P",
        "colab_type": "code",
        "colab": {
          "base_uri": "https://localhost:8080/",
          "height": 54
        },
        "outputId": "428970e0-1188-41b6-9f8f-123f9a80fb9e"
      },
      "cell_type": "code",
      "source": [
        "print(s.split(','))\n",
        "#Splits on finding comma which is passed as argument"
      ],
      "execution_count": 112,
      "outputs": [
        {
          "output_type": "stream",
          "text": [
            "['sim_type', 'aperture', 'gpu_rank', 'weight', 'stand_by_time', 'processor_frequency', 'thickness', 'flash_type', 'front_camera_resolution', 'auto_focus', 'screen_size', 'frames_per_second', 'FM', 'no_of_reviews_in_gsmarena_in_week', 'os', 'phone_height', 'screen_protection', 'sim_size', 'price', 'talk_time', 'video_resolution', 'display_resolution', 'removable_battery', 'display_type', 'primary_camera_resolution', 'battery_type', 'ram_memory', 'internal_memory', 'brand_rank', 'no_of_cores', 'micro_sd_slot', 'screen_pixel_density', 'water_proof_rate', 'phone_width', 'expandable_memory', 'version', 'usb_type', 'battery_capacity', 'processor_rank', 'is_liked\\n']\n"
          ],
          "name": "stdout"
        }
      ]
    },
    {
      "metadata": {
        "id": "2acD7jd9kov3",
        "colab_type": "code",
        "colab": {}
      },
      "cell_type": "code",
      "source": [
        "file.close()"
      ],
      "execution_count": 0,
      "outputs": []
    },
    {
      "metadata": {
        "id": "1j-sOkAtks6r",
        "colab_type": "code",
        "colab": {
          "base_uri": "https://localhost:8080/",
          "height": 72
        },
        "outputId": "0015b887-8542-4d64-fb7c-b855447ef636"
      },
      "cell_type": "code",
      "source": [
        "with open('mobile_cleaned.csv','r') as file:\n",
        "  print(file.readline())"
      ],
      "execution_count": 114,
      "outputs": [
        {
          "output_type": "stream",
          "text": [
            "sim_type,aperture,gpu_rank,weight,stand_by_time,processor_frequency,thickness,flash_type,front_camera_resolution,auto_focus,screen_size,frames_per_second,FM,no_of_reviews_in_gsmarena_in_week,os,phone_height,screen_protection,sim_size,price,talk_time,video_resolution,display_resolution,removable_battery,display_type,primary_camera_resolution,battery_type,ram_memory,internal_memory,brand_rank,no_of_cores,micro_sd_slot,screen_pixel_density,water_proof_rate,phone_width,expandable_memory,version,usb_type,battery_capacity,processor_rank,is_liked\n",
            "\n"
          ],
          "name": "stdout"
        }
      ]
    },
    {
      "metadata": {
        "id": "gHJiLjoAkwAU",
        "colab_type": "code",
        "colab": {}
      },
      "cell_type": "code",
      "source": [
        "with open('mobile_cleaned.csv','r') as file:\n",
        "  print(file.read())"
      ],
      "execution_count": 0,
      "outputs": []
    },
    {
      "metadata": {
        "id": "0At7YnDjmZv4",
        "colab_type": "code",
        "colab": {}
      },
      "cell_type": "code",
      "source": [
        "with open('mobile_cleaned.csv','r') as file:\n",
        "  for line in file:\n",
        "    print(line)\n",
        "#This also does the same as previous"
      ],
      "execution_count": 0,
      "outputs": []
    },
    {
      "metadata": {
        "id": "EDK76hosmqBX",
        "colab_type": "code",
        "colab": {}
      },
      "cell_type": "code",
      "source": [
        "with open('mobile_cleaned.csv','r') as file:\n",
        "  for line in file:\n",
        "    for word in line.split(','):\n",
        "      print(word)\n",
        "    print('------------')"
      ],
      "execution_count": 0,
      "outputs": []
    },
    {
      "metadata": {
        "id": "nOJcVlaUnRK1",
        "colab_type": "code",
        "colab": {}
      },
      "cell_type": "code",
      "source": [
        "with open('my_first_file_output.txt','w') as file:\n",
        "  file.write('Hello World')"
      ],
      "execution_count": 0,
      "outputs": []
    },
    {
      "metadata": {
        "id": "TifInK2QoNuG",
        "colab_type": "code",
        "colab": {
          "base_uri": "https://localhost:8080/",
          "height": 34
        },
        "outputId": "b2954391-bbfe-4513-a9ec-04c93354c27e"
      },
      "cell_type": "code",
      "source": [
        "!cat my_first_file_output.txt"
      ],
      "execution_count": 120,
      "outputs": [
        {
          "output_type": "stream",
          "text": [
            "Hello World"
          ],
          "name": "stdout"
        }
      ]
    },
    {
      "metadata": {
        "id": "8AeLxhZEoR8J",
        "colab_type": "code",
        "colab": {}
      },
      "cell_type": "code",
      "source": [
        ""
      ],
      "execution_count": 0,
      "outputs": []
    },
    {
      "metadata": {
        "id": "mZxC4Y_OwJSr",
        "colab_type": "text"
      },
      "cell_type": "markdown",
      "source": [
        "#Class and Inheritance"
      ]
    },
    {
      "metadata": {
        "id": "jW2zmYD2wL7M",
        "colab_type": "code",
        "colab": {}
      },
      "cell_type": "code",
      "source": [
        "class MobilePhone:\n",
        "  \"\"\"Class to illustrate how the work\"\"\"\n",
        "  def __init__(self,name,is_android=False,screen_size=4.3):\n",
        "    self.name=name\n",
        "    self.is_android=is_android\n",
        "    self.screen_size=screen_size\n",
        "    self.rating=-1\n",
        "  def has_rating(self):\n",
        "    return self.rating>-1"
      ],
      "execution_count": 0,
      "outputs": []
    },
    {
      "metadata": {
        "id": "XzNKe9VHwfVF",
        "colab_type": "code",
        "colab": {}
      },
      "cell_type": "code",
      "source": [
        "new_phone = MobilePhone('iPhone 5s')\n",
        "#instance created"
      ],
      "execution_count": 0,
      "outputs": []
    },
    {
      "metadata": {
        "id": "op-eG4UwwkPC",
        "colab_type": "code",
        "colab": {
          "base_uri": "https://localhost:8080/",
          "height": 34
        },
        "outputId": "c728b2bd-b1e6-4a99-9b3c-2e17aa176a9d"
      },
      "cell_type": "code",
      "source": [
        "type(new_phone)"
      ],
      "execution_count": 124,
      "outputs": [
        {
          "output_type": "execute_result",
          "data": {
            "text/plain": [
              "__main__.MobilePhone"
            ]
          },
          "metadata": {
            "tags": []
          },
          "execution_count": 124
        }
      ]
    },
    {
      "metadata": {
        "id": "iN6-Q3ptwtdi",
        "colab_type": "code",
        "colab": {
          "base_uri": "https://localhost:8080/",
          "height": 34
        },
        "outputId": "56873a95-a1f9-476a-bdf6-5be867b59c32"
      },
      "cell_type": "code",
      "source": [
        "print(new_phone.name,new_phone.is_android,new_phone.screen_size)"
      ],
      "execution_count": 127,
      "outputs": [
        {
          "output_type": "stream",
          "text": [
            "iPhone 5s False 4.3\n"
          ],
          "name": "stdout"
        }
      ]
    },
    {
      "metadata": {
        "id": "XeYSgrT9xgfk",
        "colab_type": "code",
        "colab": {}
      },
      "cell_type": "code",
      "source": [
        "new_phone.screen_size=4"
      ],
      "execution_count": 0,
      "outputs": []
    },
    {
      "metadata": {
        "id": "EraHvg-Gxwmm",
        "colab_type": "code",
        "colab": {
          "base_uri": "https://localhost:8080/",
          "height": 34
        },
        "outputId": "e8d9250c-f1af-42d8-8a95-726090edb850"
      },
      "cell_type": "code",
      "source": [
        "new_phone.has_rating()"
      ],
      "execution_count": 131,
      "outputs": [
        {
          "output_type": "execute_result",
          "data": {
            "text/plain": [
              "False"
            ]
          },
          "metadata": {
            "tags": []
          },
          "execution_count": 131
        }
      ]
    },
    {
      "metadata": {
        "id": "LLQuDwalyLIk",
        "colab_type": "code",
        "colab": {}
      },
      "cell_type": "code",
      "source": [
        "new_phone.rating=3.9"
      ],
      "execution_count": 0,
      "outputs": []
    },
    {
      "metadata": {
        "id": "vS3Eo0ktyQsK",
        "colab_type": "code",
        "colab": {
          "base_uri": "https://localhost:8080/",
          "height": 34
        },
        "outputId": "73293555-e4c4-4b97-9135-6ef73bea80ba"
      },
      "cell_type": "code",
      "source": [
        "new_phone.has_rating()"
      ],
      "execution_count": 133,
      "outputs": [
        {
          "output_type": "execute_result",
          "data": {
            "text/plain": [
              "True"
            ]
          },
          "metadata": {
            "tags": []
          },
          "execution_count": 133
        }
      ]
    },
    {
      "metadata": {
        "id": "zSPty77myU1X",
        "colab_type": "code",
        "colab": {
          "base_uri": "https://localhost:8080/",
          "height": 34
        },
        "outputId": "4f1966d1-87b0-4670-95d4-d497bffb4c36"
      },
      "cell_type": "code",
      "source": [
        "MobilePhone.__doc__"
      ],
      "execution_count": 135,
      "outputs": [
        {
          "output_type": "execute_result",
          "data": {
            "text/plain": [
              "'Class to illustrate how the work'"
            ]
          },
          "metadata": {
            "tags": []
          },
          "execution_count": 135
        }
      ]
    },
    {
      "metadata": {
        "id": "aueZnk2Pyip3",
        "colab_type": "code",
        "colab": {}
      },
      "cell_type": "code",
      "source": [
        "#Inheritence\n",
        "class IPhone(MobilePhone):\n",
        "  def __init__(self,name):\n",
        "      MobilePhone.__init__(self,name,False,4)\n",
        "  def __str__(self):\n",
        "    return self.name+\" \"+str(self.is_android)+\" \"+str(self.screen_size)"
      ],
      "execution_count": 0,
      "outputs": []
    },
    {
      "metadata": {
        "id": "8OJ_iAb00PWX",
        "colab_type": "code",
        "colab": {}
      },
      "cell_type": "code",
      "source": [
        "new_iphone = IPhone('iPhone 5s')"
      ],
      "execution_count": 0,
      "outputs": []
    },
    {
      "metadata": {
        "id": "P9-7Nnzp0opS",
        "colab_type": "code",
        "colab": {
          "base_uri": "https://localhost:8080/",
          "height": 34
        },
        "outputId": "757cbb05-f28c-4bb9-f27f-b6887f2bd5c1"
      },
      "cell_type": "code",
      "source": [
        "new_iphone.is_android "
      ],
      "execution_count": 140,
      "outputs": [
        {
          "output_type": "execute_result",
          "data": {
            "text/plain": [
              "False"
            ]
          },
          "metadata": {
            "tags": []
          },
          "execution_count": 140
        }
      ]
    },
    {
      "metadata": {
        "id": "UXXKhUyp0wHa",
        "colab_type": "code",
        "colab": {
          "base_uri": "https://localhost:8080/",
          "height": 34
        },
        "outputId": "dc376bf7-68a7-4fc1-cbe8-f353795401e2"
      },
      "cell_type": "code",
      "source": [
        "print(new_iphone)"
      ],
      "execution_count": 141,
      "outputs": [
        {
          "output_type": "stream",
          "text": [
            "iPhone 5s False 4\n"
          ],
          "name": "stdout"
        }
      ]
    },
    {
      "metadata": {
        "id": "NBrDbpE3007c",
        "colab_type": "code",
        "colab": {}
      },
      "cell_type": "code",
      "source": [
        ""
      ],
      "execution_count": 0,
      "outputs": []
    },
    {
      "metadata": {
        "id": "TekwDD1I1EIT",
        "colab_type": "text"
      },
      "cell_type": "markdown",
      "source": [
        "#NumPy"
      ]
    },
    {
      "metadata": {
        "id": "voDML_DD1GLM",
        "colab_type": "code",
        "colab": {
          "base_uri": "https://localhost:8080/",
          "height": 34
        },
        "outputId": "7344fe36-ecd3-4ca3-9de8-74a783b57931"
      },
      "cell_type": "code",
      "source": [
        "import numpy as np\n",
        "x = np.array([1,2,3])\n",
        "print(x)"
      ],
      "execution_count": 143,
      "outputs": [
        {
          "output_type": "stream",
          "text": [
            "[1 2 3]\n"
          ],
          "name": "stdout"
        }
      ]
    },
    {
      "metadata": {
        "id": "1A7wSqEN1Jvl",
        "colab_type": "code",
        "colab": {
          "base_uri": "https://localhost:8080/",
          "height": 34
        },
        "outputId": "0f673e34-6df7-4764-be8f-755f8f7d357c"
      },
      "cell_type": "code",
      "source": [
        "type(x)"
      ],
      "execution_count": 144,
      "outputs": [
        {
          "output_type": "execute_result",
          "data": {
            "text/plain": [
              "numpy.ndarray"
            ]
          },
          "metadata": {
            "tags": []
          },
          "execution_count": 144
        }
      ]
    },
    {
      "metadata": {
        "id": "3-WnRMdXq2ie",
        "colab_type": "code",
        "colab": {}
      },
      "cell_type": "code",
      "source": [
        "l = [4,5,10]\n",
        "x = np.asarray(l)"
      ],
      "execution_count": 0,
      "outputs": []
    },
    {
      "metadata": {
        "id": "JmNOT1sCsvRJ",
        "colab_type": "code",
        "colab": {
          "base_uri": "https://localhost:8080/",
          "height": 34
        },
        "outputId": "05c27392-6e47-48ac-e796-aa4520e3f7dc"
      },
      "cell_type": "code",
      "source": [
        "type(x)"
      ],
      "execution_count": 146,
      "outputs": [
        {
          "output_type": "execute_result",
          "data": {
            "text/plain": [
              "numpy.ndarray"
            ]
          },
          "metadata": {
            "tags": []
          },
          "execution_count": 146
        }
      ]
    },
    {
      "metadata": {
        "id": "B-6yCB3msw-8",
        "colab_type": "code",
        "colab": {
          "base_uri": "https://localhost:8080/",
          "height": 34
        },
        "outputId": "f1935d96-1321-46e5-b1ff-b8344b7097d9"
      },
      "cell_type": "code",
      "source": [
        "print(x)"
      ],
      "execution_count": 147,
      "outputs": [
        {
          "output_type": "stream",
          "text": [
            "[ 4  5 10]\n"
          ],
          "name": "stdout"
        }
      ]
    },
    {
      "metadata": {
        "id": "zAYAZrqls2Nw",
        "colab_type": "code",
        "colab": {}
      },
      "cell_type": "code",
      "source": [
        "x = np.asarray(l,float)"
      ],
      "execution_count": 0,
      "outputs": []
    },
    {
      "metadata": {
        "id": "IgWeqvlBs9tK",
        "colab_type": "code",
        "colab": {
          "base_uri": "https://localhost:8080/",
          "height": 34
        },
        "outputId": "2fa3d868-6196-4140-b7c3-85c297af06c9"
      },
      "cell_type": "code",
      "source": [
        "print(x)"
      ],
      "execution_count": 149,
      "outputs": [
        {
          "output_type": "stream",
          "text": [
            "[ 4.  5. 10.]\n"
          ],
          "name": "stdout"
        }
      ]
    },
    {
      "metadata": {
        "id": "X5p6UFTfs_Tu",
        "colab_type": "code",
        "colab": {
          "base_uri": "https://localhost:8080/",
          "height": 34
        },
        "outputId": "6061e68b-b2d2-4f8a-ebea-8f9231bf958b"
      },
      "cell_type": "code",
      "source": [
        "x.shape"
      ],
      "execution_count": 150,
      "outputs": [
        {
          "output_type": "execute_result",
          "data": {
            "text/plain": [
              "(3,)"
            ]
          },
          "metadata": {
            "tags": []
          },
          "execution_count": 150
        }
      ]
    },
    {
      "metadata": {
        "id": "JKE0_r-4tYVL",
        "colab_type": "code",
        "colab": {
          "base_uri": "https://localhost:8080/",
          "height": 34
        },
        "outputId": "d003e585-ea58-4b97-cd21-d517813a2f4f"
      },
      "cell_type": "code",
      "source": [
        "x=np.array([[1,2,3],[4,5,6]])\n",
        "x.shape"
      ],
      "execution_count": 151,
      "outputs": [
        {
          "output_type": "execute_result",
          "data": {
            "text/plain": [
              "(2, 3)"
            ]
          },
          "metadata": {
            "tags": []
          },
          "execution_count": 151
        }
      ]
    },
    {
      "metadata": {
        "id": "8S72yb2qtwnB",
        "colab_type": "code",
        "colab": {
          "base_uri": "https://localhost:8080/",
          "height": 34
        },
        "outputId": "7400a79f-a812-40c3-8af1-c43c439bdea3"
      },
      "cell_type": "code",
      "source": [
        "x[0,0]"
      ],
      "execution_count": 152,
      "outputs": [
        {
          "output_type": "execute_result",
          "data": {
            "text/plain": [
              "1"
            ]
          },
          "metadata": {
            "tags": []
          },
          "execution_count": 152
        }
      ]
    },
    {
      "metadata": {
        "id": "ujlq4DmAtzcl",
        "colab_type": "code",
        "colab": {
          "base_uri": "https://localhost:8080/",
          "height": 34
        },
        "outputId": "f6cc8a3d-919c-4d74-d3ca-8a6370b3ca3e"
      },
      "cell_type": "code",
      "source": [
        "x[0,0:2]"
      ],
      "execution_count": 153,
      "outputs": [
        {
          "output_type": "execute_result",
          "data": {
            "text/plain": [
              "array([1, 2])"
            ]
          },
          "metadata": {
            "tags": []
          },
          "execution_count": 153
        }
      ]
    },
    {
      "metadata": {
        "id": "TNXNCe59t2aa",
        "colab_type": "code",
        "colab": {
          "base_uri": "https://localhost:8080/",
          "height": 34
        },
        "outputId": "2ee9a809-9e70-4396-9f58-d84794ee4924"
      },
      "cell_type": "code",
      "source": [
        "x[0,:]"
      ],
      "execution_count": 154,
      "outputs": [
        {
          "output_type": "execute_result",
          "data": {
            "text/plain": [
              "array([1, 2, 3])"
            ]
          },
          "metadata": {
            "tags": []
          },
          "execution_count": 154
        }
      ]
    },
    {
      "metadata": {
        "id": "02kPSvk5t9S4",
        "colab_type": "code",
        "colab": {}
      },
      "cell_type": "code",
      "source": [
        "x=np.zeros((4,5))"
      ],
      "execution_count": 0,
      "outputs": []
    },
    {
      "metadata": {
        "id": "tzbIoY4LuCCW",
        "colab_type": "code",
        "colab": {
          "base_uri": "https://localhost:8080/",
          "height": 86
        },
        "outputId": "21ab1252-1d5d-4bc8-8f83-6c8caea63287"
      },
      "cell_type": "code",
      "source": [
        "print(x)"
      ],
      "execution_count": 156,
      "outputs": [
        {
          "output_type": "stream",
          "text": [
            "[[0. 0. 0. 0. 0.]\n",
            " [0. 0. 0. 0. 0.]\n",
            " [0. 0. 0. 0. 0.]\n",
            " [0. 0. 0. 0. 0.]]\n"
          ],
          "name": "stdout"
        }
      ]
    },
    {
      "metadata": {
        "id": "hZA-LOM1uD3E",
        "colab_type": "code",
        "colab": {}
      },
      "cell_type": "code",
      "source": [
        "x=np.eye(4,4)"
      ],
      "execution_count": 0,
      "outputs": []
    },
    {
      "metadata": {
        "id": "cBmoD9VvuJzW",
        "colab_type": "code",
        "colab": {
          "base_uri": "https://localhost:8080/",
          "height": 86
        },
        "outputId": "dc3de495-a4f0-4028-c55c-d4b422bdfdee"
      },
      "cell_type": "code",
      "source": [
        "print(x)"
      ],
      "execution_count": 158,
      "outputs": [
        {
          "output_type": "stream",
          "text": [
            "[[1. 0. 0. 0.]\n",
            " [0. 1. 0. 0.]\n",
            " [0. 0. 1. 0.]\n",
            " [0. 0. 0. 1.]]\n"
          ],
          "name": "stdout"
        }
      ]
    },
    {
      "metadata": {
        "id": "odKkfCgauLgj",
        "colab_type": "code",
        "colab": {
          "base_uri": "https://localhost:8080/",
          "height": 86
        },
        "outputId": "fa92cdc1-1b60-4630-a2b3-3a05f90bcfaf"
      },
      "cell_type": "code",
      "source": [
        "x=np.random.random((4,5)) #generates a normally distributed matrix in the range (0,1)\n",
        "print(x)"
      ],
      "execution_count": 160,
      "outputs": [
        {
          "output_type": "stream",
          "text": [
            "[[0.09811856 0.28821791 0.33015287 0.83056678 0.70952002]\n",
            " [0.22192455 0.96395609 0.84536358 0.134578   0.20117107]\n",
            " [0.29466409 0.75578099 0.86619658 0.06760755 0.15060158]\n",
            " [0.67505853 0.22350778 0.68471327 0.26134774 0.82113285]]\n"
          ],
          "name": "stdout"
        }
      ]
    },
    {
      "metadata": {
        "id": "SY_ZxMujuQQW",
        "colab_type": "code",
        "colab": {
          "base_uri": "https://localhost:8080/",
          "height": 104
        },
        "outputId": "2d3a3459-afa4-4fbb-b6b9-72610d3c21e3"
      },
      "cell_type": "code",
      "source": [
        "z = x.T #Transpose of X\n",
        "print(z)"
      ],
      "execution_count": 162,
      "outputs": [
        {
          "output_type": "stream",
          "text": [
            "[[0.09811856 0.22192455 0.29466409 0.67505853]\n",
            " [0.28821791 0.96395609 0.75578099 0.22350778]\n",
            " [0.33015287 0.84536358 0.86619658 0.68471327]\n",
            " [0.83056678 0.134578   0.06760755 0.26134774]\n",
            " [0.70952002 0.20117107 0.15060158 0.82113285]]\n"
          ],
          "name": "stdout"
        }
      ]
    },
    {
      "metadata": {
        "id": "Uy5qpeIrudmM",
        "colab_type": "code",
        "colab": {
          "base_uri": "https://localhost:8080/",
          "height": 364
        },
        "outputId": "356ee0e5-08fc-432e-d4df-623a82c8e622"
      },
      "cell_type": "code",
      "source": [
        "y = x.reshape(20,1) #reshapes the matrix x into 20 by 1 matrix y\n",
        "print(y)"
      ],
      "execution_count": 164,
      "outputs": [
        {
          "output_type": "stream",
          "text": [
            "[[0.09811856]\n",
            " [0.28821791]\n",
            " [0.33015287]\n",
            " [0.83056678]\n",
            " [0.70952002]\n",
            " [0.22192455]\n",
            " [0.96395609]\n",
            " [0.84536358]\n",
            " [0.134578  ]\n",
            " [0.20117107]\n",
            " [0.29466409]\n",
            " [0.75578099]\n",
            " [0.86619658]\n",
            " [0.06760755]\n",
            " [0.15060158]\n",
            " [0.67505853]\n",
            " [0.22350778]\n",
            " [0.68471327]\n",
            " [0.26134774]\n",
            " [0.82113285]]\n"
          ],
          "name": "stdout"
        }
      ]
    },
    {
      "metadata": {
        "id": "LY9VvTDMuprs",
        "colab_type": "code",
        "colab": {
          "base_uri": "https://localhost:8080/",
          "height": 52
        },
        "outputId": "f9549636-45d5-4101-bf46-45ec70309be8"
      },
      "cell_type": "code",
      "source": [
        "a=np.arange(5)\n",
        "b=np.arange(5)\n",
        "c=a+b\n",
        "d=a*b\n",
        "e=a-b\n",
        "print(c,d,e)\n",
        "print(a,a+1)"
      ],
      "execution_count": 167,
      "outputs": [
        {
          "output_type": "stream",
          "text": [
            "[0 2 4 6 8] [ 0  1  4  9 16] [0 0 0 0 0]\n",
            "[0 1 2 3 4] [1 2 3 4 5]\n"
          ],
          "name": "stdout"
        }
      ]
    },
    {
      "metadata": {
        "id": "-zDiVxSiu78Y",
        "colab_type": "code",
        "colab": {
          "base_uri": "https://localhost:8080/",
          "height": 86
        },
        "outputId": "1f1696e3-d1be-4907-b05f-18441bae5835"
      },
      "cell_type": "code",
      "source": [
        "a=np.random.random((2,3))\n",
        "print(a)\n",
        "print(a+1)"
      ],
      "execution_count": 168,
      "outputs": [
        {
          "output_type": "stream",
          "text": [
            "[[0.13650343 0.18243316 0.91367784]\n",
            " [0.94331392 0.61773021 0.48922525]]\n",
            "[[1.13650343 1.18243316 1.91367784]\n",
            " [1.94331392 1.61773021 1.48922525]]\n"
          ],
          "name": "stdout"
        }
      ]
    },
    {
      "metadata": {
        "id": "1PB9MPxOvUD9",
        "colab_type": "code",
        "colab": {
          "base_uri": "https://localhost:8080/",
          "height": 52
        },
        "outputId": "a7eb76f8-fc32-438c-f680-2309c7472964"
      },
      "cell_type": "code",
      "source": [
        "a=np.floor(np.random.random((2,3))*10)\n",
        "print(a)"
      ],
      "execution_count": 169,
      "outputs": [
        {
          "output_type": "stream",
          "text": [
            "[[1. 7. 6.]\n",
            " [5. 1. 9.]]\n"
          ],
          "name": "stdout"
        }
      ]
    },
    {
      "metadata": {
        "id": "bcPuj7kDvfaA",
        "colab_type": "code",
        "colab": {
          "base_uri": "https://localhost:8080/",
          "height": 86
        },
        "outputId": "4daf6cc5-7e7e-40b3-84f5-bdd3684c27d2"
      },
      "cell_type": "code",
      "source": [
        "u=[1,2,3]\n",
        "v=[-1,0,1]\n",
        "p1=np.inner(u,v) #Does a pointwise product and then adds\n",
        "p2=np.outer(u,v) #Does cartesian product for both matrices and builds an p2\n",
        "print(p1)\n",
        "print(p2)"
      ],
      "execution_count": 172,
      "outputs": [
        {
          "output_type": "stream",
          "text": [
            "2\n",
            "[[-1  0  1]\n",
            " [-2  0  2]\n",
            " [-3  0  3]]\n"
          ],
          "name": "stdout"
        }
      ]
    },
    {
      "metadata": {
        "id": "nu1zwYe-vl1-",
        "colab_type": "code",
        "colab": {
          "base_uri": "https://localhost:8080/",
          "height": 139
        },
        "outputId": "4a414dd6-1db5-4785-c3c3-205aaa4f34f5"
      },
      "cell_type": "code",
      "source": [
        "a=np.ones((2,3))\n",
        "print(a)\n",
        "b=np.ones((3,2))\n",
        "print(b)\n",
        "np.dot(a,b)\n",
        "np.dot(b.T,a.T) #Doubtful about this"
      ],
      "execution_count": 174,
      "outputs": [
        {
          "output_type": "stream",
          "text": [
            "[[1. 1. 1.]\n",
            " [1. 1. 1.]]\n",
            "[[1. 1.]\n",
            " [1. 1.]\n",
            " [1. 1.]]\n"
          ],
          "name": "stdout"
        },
        {
          "output_type": "execute_result",
          "data": {
            "text/plain": [
              "array([[3., 3.],\n",
              "       [3., 3.]])"
            ]
          },
          "metadata": {
            "tags": []
          },
          "execution_count": 174
        }
      ]
    },
    {
      "metadata": {
        "id": "N45rmuimwiCA",
        "colab_type": "code",
        "colab": {
          "base_uri": "https://localhost:8080/",
          "height": 52
        },
        "outputId": "068c356d-1150-46cb-d7d0-bdf475f96e11"
      },
      "cell_type": "code",
      "source": [
        "a=np.ones((2,3))\n",
        "print(a)"
      ],
      "execution_count": 176,
      "outputs": [
        {
          "output_type": "stream",
          "text": [
            "[[1. 1. 1.]\n",
            " [1. 1. 1.]]\n"
          ],
          "name": "stdout"
        }
      ]
    },
    {
      "metadata": {
        "id": "PYEQ7OpbxT5w",
        "colab_type": "code",
        "colab": {
          "base_uri": "https://localhost:8080/",
          "height": 34
        },
        "outputId": "4fc566b0-c2fe-4724-b862-d1a5ad141d13"
      },
      "cell_type": "code",
      "source": [
        "a.sum()"
      ],
      "execution_count": 175,
      "outputs": [
        {
          "output_type": "execute_result",
          "data": {
            "text/plain": [
              "6.0"
            ]
          },
          "metadata": {
            "tags": []
          },
          "execution_count": 175
        }
      ]
    },
    {
      "metadata": {
        "id": "pz14SrRexYom",
        "colab_type": "code",
        "colab": {
          "base_uri": "https://localhost:8080/",
          "height": 34
        },
        "outputId": "2232d0d5-53ac-4976-e026-305b919e775f"
      },
      "cell_type": "code",
      "source": [
        "a.sum(axis=0) #Column wise sum"
      ],
      "execution_count": 178,
      "outputs": [
        {
          "output_type": "execute_result",
          "data": {
            "text/plain": [
              "array([2., 2., 2.])"
            ]
          },
          "metadata": {
            "tags": []
          },
          "execution_count": 178
        }
      ]
    },
    {
      "metadata": {
        "id": "XaZA9cwNxn_9",
        "colab_type": "code",
        "colab": {
          "base_uri": "https://localhost:8080/",
          "height": 34
        },
        "outputId": "2154cbec-6ba5-4e6a-ba5d-dd4469d1d5aa"
      },
      "cell_type": "code",
      "source": [
        "a.sum(axis=1) #Row wise sum"
      ],
      "execution_count": 179,
      "outputs": [
        {
          "output_type": "execute_result",
          "data": {
            "text/plain": [
              "array([3., 3.])"
            ]
          },
          "metadata": {
            "tags": []
          },
          "execution_count": 179
        }
      ]
    },
    {
      "metadata": {
        "id": "wO9yS-HGxs4h",
        "colab_type": "code",
        "colab": {
          "base_uri": "https://localhost:8080/",
          "height": 34
        },
        "outputId": "c5970682-82a7-4628-ec1a-9a7ce92a0eeb"
      },
      "cell_type": "code",
      "source": [
        "a.max()"
      ],
      "execution_count": 180,
      "outputs": [
        {
          "output_type": "execute_result",
          "data": {
            "text/plain": [
              "1.0"
            ]
          },
          "metadata": {
            "tags": []
          },
          "execution_count": 180
        }
      ]
    },
    {
      "metadata": {
        "id": "p5vcJ5Lsx1GT",
        "colab_type": "code",
        "colab": {}
      },
      "cell_type": "code",
      "source": [
        ""
      ],
      "execution_count": 0,
      "outputs": []
    },
    {
      "metadata": {
        "id": "VNB05RRux4Lr",
        "colab_type": "text"
      },
      "cell_type": "markdown",
      "source": [
        "#Plotting"
      ]
    },
    {
      "metadata": {
        "id": "hzA3wishx5rL",
        "colab_type": "code",
        "colab": {
          "base_uri": "https://localhost:8080/",
          "height": 191
        },
        "outputId": "c00d4949-747d-4b90-bf94-2b577980190a"
      },
      "cell_type": "code",
      "source": [
        "import matplotlib.pyplot as plt\n",
        "import numpy as np\n",
        "x=np.random.random((10,1))\n",
        "print(x)"
      ],
      "execution_count": 27,
      "outputs": [
        {
          "output_type": "stream",
          "text": [
            "[[0.23685588]\n",
            " [0.80768412]\n",
            " [0.93088877]\n",
            " [0.02317621]\n",
            " [0.15403801]\n",
            " [0.98794663]\n",
            " [0.14594193]\n",
            " [0.96832047]\n",
            " [0.102905  ]\n",
            " [0.50284064]]\n"
          ],
          "name": "stdout"
        }
      ]
    },
    {
      "metadata": {
        "id": "ykMOIavqyJqa",
        "colab_type": "code",
        "colab": {
          "base_uri": "https://localhost:8080/",
          "height": 274
        },
        "outputId": "bdcf7eea-235c-4cc0-db73-72a86687c169"
      },
      "cell_type": "code",
      "source": [
        "#!pip install matplotlib==3.0.2\n",
        "plt.plot(x)\n",
        "plt.show()\n"
      ],
      "execution_count": 6,
      "outputs": [
        {
          "output_type": "display_data",
          "data": {
            "image/png": "[encoded data removed]",
            "text/plain": [
              "<Figure size 432x288 with 1 Axes>"
            ]
          },
          "metadata": {
            "tags": []
          }
        }
      ]
    },
    {
      "metadata": {
        "id": "adDoaBmZyegV",
        "colab_type": "code",
        "colab": {
          "base_uri": "https://localhost:8080/",
          "height": 274
        },
        "outputId": "1b163bd1-f5b8-469a-c44c-dfeb41189fb5"
      },
      "cell_type": "code",
      "source": [
        "x=np.linspace(0,10,100)\n",
        "y=np.power(x,0.5)\n",
        "plt.plot(x,y)\n",
        "plt.show()"
      ],
      "execution_count": 7,
      "outputs": [
        {
          "output_type": "display_data",
          "data": {
            "image/png": "[encoded data removed]",
            "text/plain": [
              "<Figure size 432x288 with 1 Axes>"
            ]
          },
          "metadata": {
            "tags": []
          }
        }
      ]
    },
    {
      "metadata": {
        "id": "uroerCQ6MIol",
        "colab_type": "code",
        "colab": {}
      },
      "cell_type": "code",
      "source": [
        "import seaborn as sns"
      ],
      "execution_count": 0,
      "outputs": []
    },
    {
      "metadata": {
        "id": "QUUJDHoZMjvd",
        "colab_type": "code",
        "colab": {
          "base_uri": "https://localhost:8080/",
          "height": 202
        },
        "outputId": "c6608c4e-d980-445f-beb0-8cbb0537ea27"
      },
      "cell_type": "code",
      "source": [
        "sns.set()\n",
        "sns.lineplot(x,y)\n",
        "plt.show()"
      ],
      "execution_count": 2,
      "outputs": [
        {
          "output_type": "error",
          "ename": "NameError",
          "evalue": "ignored",
          "traceback": [
            "\u001b[0;31m---------------------------------------------------------------------------\u001b[0m",
            "\u001b[0;31mNameError\u001b[0m                                 Traceback (most recent call last)",
            "\u001b[0;32m<ipython-input-2-b337b70010e6>\u001b[0m in \u001b[0;36m<module>\u001b[0;34m()\u001b[0m\n\u001b[1;32m      1\u001b[0m \u001b[0msns\u001b[0m\u001b[0;34m.\u001b[0m\u001b[0mset\u001b[0m\u001b[0;34m(\u001b[0m\u001b[0;34m)\u001b[0m\u001b[0;34m\u001b[0m\u001b[0;34m\u001b[0m\u001b[0m\n\u001b[0;32m----> 2\u001b[0;31m \u001b[0msns\u001b[0m\u001b[0;34m.\u001b[0m\u001b[0mlineplot\u001b[0m\u001b[0;34m(\u001b[0m\u001b[0mx\u001b[0m\u001b[0;34m,\u001b[0m\u001b[0my\u001b[0m\u001b[0;34m)\u001b[0m\u001b[0;34m\u001b[0m\u001b[0;34m\u001b[0m\u001b[0m\n\u001b[0m\u001b[1;32m      3\u001b[0m \u001b[0mplt\u001b[0m\u001b[0;34m.\u001b[0m\u001b[0mshow\u001b[0m\u001b[0;34m(\u001b[0m\u001b[0;34m)\u001b[0m\u001b[0;34m\u001b[0m\u001b[0;34m\u001b[0m\u001b[0m\n",
            "\u001b[0;31mNameError\u001b[0m: name 'x' is not defined"
          ]
        }
      ]
    },
    {
      "metadata": {
        "id": "ELWHiVPJMrRl",
        "colab_type": "code",
        "colab": {}
      },
      "cell_type": "code",
      "source": [
        "#!pip install seaborn==0.9.0"
      ],
      "execution_count": 0,
      "outputs": []
    },
    {
      "metadata": {
        "id": "GDHQ-0XKM6ze",
        "colab_type": "code",
        "colab": {
          "base_uri": "https://localhost:8080/",
          "height": 384
        },
        "outputId": "27b25b12-f574-420c-fb73-1725ed218c99"
      },
      "cell_type": "code",
      "source": [
        "!wget https://www.dropbox.com/s/w94odi4aq1k44lf/mobile_cleaned.csv"
      ],
      "execution_count": 4,
      "outputs": [
        {
          "output_type": "stream",
          "text": [
            "--2019-02-02 18:48:30--  https://www.dropbox.com/s/w94odi4aq1k44lf/mobile_cleaned.csv\n",
            "Resolving www.dropbox.com (www.dropbox.com)... 162.125.8.1, 2620:100:6016:1::a27d:101\n",
            "Connecting to www.dropbox.com (www.dropbox.com)|162.125.8.1|:443... connected.\n",
            "HTTP request sent, awaiting response... 301 Moved Permanently\n",
            "Location: /s/raw/w94odi4aq1k44lf/mobile_cleaned.csv [following]\n",
            "--2019-02-02 18:48:30--  https://www.dropbox.com/s/raw/w94odi4aq1k44lf/mobile_cleaned.csv\n",
            "Reusing existing connection to www.dropbox.com:443.\n",
            "HTTP request sent, awaiting response... 302 Found\n",
            "Location: https://ucff26bb959195725bca16f3afff.dl.dropboxusercontent.com/cd/0/inline/Aal6M9xXWxXGZqFgCOvBxjwCHpWoisXTGn0jD3dl_EkgSrxLabsSDsmq2DCS4JGUby2Wrc4a2SZTgexnpxd25PbI8VvSlgWnf-D81fijzehdQ3Q90WF-LbjXr05Wd9tP-Fc/file# [following]\n",
            "--2019-02-02 18:48:31--  https://ucff26bb959195725bca16f3afff.dl.dropboxusercontent.com/cd/0/inline/Aal6M9xXWxXGZqFgCOvBxjwCHpWoisXTGn0jD3dl_EkgSrxLabsSDsmq2DCS4JGUby2Wrc4a2SZTgexnpxd25PbI8VvSlgWnf-D81fijzehdQ3Q90WF-LbjXr05Wd9tP-Fc/file\n",
            "Resolving ucff26bb959195725bca16f3afff.dl.dropboxusercontent.com (ucff26bb959195725bca16f3afff.dl.dropboxusercontent.com)... 162.125.8.6, 2620:100:601b:6::a27d:806\n",
            "Connecting to ucff26bb959195725bca16f3afff.dl.dropboxusercontent.com (ucff26bb959195725bca16f3afff.dl.dropboxusercontent.com)|162.125.8.6|:443... connected.\n",
            "HTTP request sent, awaiting response... 200 OK\n",
            "Length: 14044 (14K) [text/plain]\n",
            "Saving to: ‘mobile_cleaned.csv.1’\n",
            "\n",
            "mobile_cleaned.csv. 100%[===================>]  13.71K  --.-KB/s    in 0s      \n",
            "\n",
            "2019-02-02 18:48:31 (251 MB/s) - ‘mobile_cleaned.csv.1’ saved [14044/14044]\n",
            "\n"
          ],
          "name": "stdout"
        }
      ]
    },
    {
      "metadata": {
        "id": "cBv5CxADOfIE",
        "colab_type": "code",
        "colab": {
          "base_uri": "https://localhost:8080/",
          "height": 34
        },
        "outputId": "89889b22-ccb4-4f3c-cb3c-79876ad73d14"
      },
      "cell_type": "code",
      "source": [
        "!ls"
      ],
      "execution_count": 5,
      "outputs": [
        {
          "output_type": "stream",
          "text": [
            "mobile_cleaned.csv  mobile_cleaned.csv.1  sample_data\n"
          ],
          "name": "stdout"
        }
      ]
    },
    {
      "metadata": {
        "id": "dew7EIXROhkw",
        "colab_type": "code",
        "colab": {
          "base_uri": "https://localhost:8080/",
          "height": 256
        },
        "outputId": "d2e3ce78-a3b2-4a9a-a5f1-a79a3a1d58ae"
      },
      "cell_type": "code",
      "source": [
        "import pandas as pd\n",
        "data = pd.read_csv('mobile_cleaned.csv')\n",
        "data.head()"
      ],
      "execution_count": 6,
      "outputs": [
        {
          "output_type": "execute_result",
          "data": {
            "text/html": [
              "<div>\n",
              "<style scoped>\n",
              "    .dataframe tbody tr th:only-of-type {\n",
              "        vertical-align: middle;\n",
              "    }\n",
              "\n",
              "    .dataframe tbody tr th {\n",
              "        vertical-align: top;\n",
              "    }\n",
              "\n",
              "    .dataframe thead th {\n",
              "        text-align: right;\n",
              "    }\n",
              "</style>\n",
              "<table border=\"1\" class=\"dataframe\">\n",
              "  <thead>\n",
              "    <tr style=\"text-align: right;\">\n",
              "      <th></th>\n",
              "      <th>sim_type</th>\n",
              "      <th>aperture</th>\n",
              "      <th>gpu_rank</th>\n",
              "      <th>weight</th>\n",
              "      <th>stand_by_time</th>\n",
              "      <th>processor_frequency</th>\n",
              "      <th>thickness</th>\n",
              "      <th>flash_type</th>\n",
              "      <th>front_camera_resolution</th>\n",
              "      <th>auto_focus</th>\n",
              "      <th>...</th>\n",
              "      <th>micro_sd_slot</th>\n",
              "      <th>screen_pixel_density</th>\n",
              "      <th>water_proof_rate</th>\n",
              "      <th>phone_width</th>\n",
              "      <th>expandable_memory</th>\n",
              "      <th>version</th>\n",
              "      <th>usb_type</th>\n",
              "      <th>battery_capacity</th>\n",
              "      <th>processor_rank</th>\n",
              "      <th>is_liked</th>\n",
              "    </tr>\n",
              "  </thead>\n",
              "  <tbody>\n",
              "    <tr>\n",
              "      <th>0</th>\n",
              "      <td>0</td>\n",
              "      <td>12</td>\n",
              "      <td>55</td>\n",
              "      <td>155.0</td>\n",
              "      <td>250</td>\n",
              "      <td>1.3</td>\n",
              "      <td>10.5</td>\n",
              "      <td>5</td>\n",
              "      <td>2.00</td>\n",
              "      <td>0</td>\n",
              "      <td>...</td>\n",
              "      <td>4</td>\n",
              "      <td>2</td>\n",
              "      <td>3</td>\n",
              "      <td>67.8</td>\n",
              "      <td>64.0</td>\n",
              "      <td>5</td>\n",
              "      <td>3</td>\n",
              "      <td>2000</td>\n",
              "      <td>125</td>\n",
              "      <td>1</td>\n",
              "    </tr>\n",
              "    <tr>\n",
              "      <th>1</th>\n",
              "      <td>0</td>\n",
              "      <td>1</td>\n",
              "      <td>55</td>\n",
              "      <td>132.0</td>\n",
              "      <td>300</td>\n",
              "      <td>1.3</td>\n",
              "      <td>10.6</td>\n",
              "      <td>5</td>\n",
              "      <td>0.30</td>\n",
              "      <td>1</td>\n",
              "      <td>...</td>\n",
              "      <td>4</td>\n",
              "      <td>4</td>\n",
              "      <td>6</td>\n",
              "      <td>64.0</td>\n",
              "      <td>32.0</td>\n",
              "      <td>5</td>\n",
              "      <td>3</td>\n",
              "      <td>2000</td>\n",
              "      <td>165</td>\n",
              "      <td>1</td>\n",
              "    </tr>\n",
              "    <tr>\n",
              "      <th>2</th>\n",
              "      <td>0</td>\n",
              "      <td>9</td>\n",
              "      <td>55</td>\n",
              "      <td>142.0</td>\n",
              "      <td>329</td>\n",
              "      <td>1.5</td>\n",
              "      <td>8.5</td>\n",
              "      <td>5</td>\n",
              "      <td>2.00</td>\n",
              "      <td>3</td>\n",
              "      <td>...</td>\n",
              "      <td>4</td>\n",
              "      <td>9</td>\n",
              "      <td>6</td>\n",
              "      <td>72.0</td>\n",
              "      <td>32.0</td>\n",
              "      <td>6</td>\n",
              "      <td>3</td>\n",
              "      <td>2500</td>\n",
              "      <td>164</td>\n",
              "      <td>0</td>\n",
              "    </tr>\n",
              "    <tr>\n",
              "      <th>3</th>\n",
              "      <td>0</td>\n",
              "      <td>8</td>\n",
              "      <td>55</td>\n",
              "      <td>152.0</td>\n",
              "      <td>385</td>\n",
              "      <td>1.3</td>\n",
              "      <td>8.0</td>\n",
              "      <td>5</td>\n",
              "      <td>2.00</td>\n",
              "      <td>3</td>\n",
              "      <td>...</td>\n",
              "      <td>4</td>\n",
              "      <td>1</td>\n",
              "      <td>3</td>\n",
              "      <td>75.1</td>\n",
              "      <td>32.0</td>\n",
              "      <td>6</td>\n",
              "      <td>3</td>\n",
              "      <td>3000</td>\n",
              "      <td>165</td>\n",
              "      <td>1</td>\n",
              "    </tr>\n",
              "    <tr>\n",
              "      <th>4</th>\n",
              "      <td>1</td>\n",
              "      <td>1</td>\n",
              "      <td>55</td>\n",
              "      <td>234.0</td>\n",
              "      <td>385</td>\n",
              "      <td>1.3</td>\n",
              "      <td>7.9</td>\n",
              "      <td>5</td>\n",
              "      <td>1.92</td>\n",
              "      <td>3</td>\n",
              "      <td>...</td>\n",
              "      <td>4</td>\n",
              "      <td>1</td>\n",
              "      <td>6</td>\n",
              "      <td>91.0</td>\n",
              "      <td>32.0</td>\n",
              "      <td>6</td>\n",
              "      <td>3</td>\n",
              "      <td>3000</td>\n",
              "      <td>165</td>\n",
              "      <td>0</td>\n",
              "    </tr>\n",
              "  </tbody>\n",
              "</table>\n",
              "<p>5 rows × 40 columns</p>\n",
              "</div>"
            ],
            "text/plain": [
              "   sim_type  aperture  gpu_rank  weight  stand_by_time  processor_frequency  \\\n",
              "0         0        12        55   155.0            250                  1.3   \n",
              "1         0         1        55   132.0            300                  1.3   \n",
              "2         0         9        55   142.0            329                  1.5   \n",
              "3         0         8        55   152.0            385                  1.3   \n",
              "4         1         1        55   234.0            385                  1.3   \n",
              "\n",
              "   thickness  flash_type  front_camera_resolution  auto_focus    ...     \\\n",
              "0       10.5           5                     2.00           0    ...      \n",
              "1       10.6           5                     0.30           1    ...      \n",
              "2        8.5           5                     2.00           3    ...      \n",
              "3        8.0           5                     2.00           3    ...      \n",
              "4        7.9           5                     1.92           3    ...      \n",
              "\n",
              "   micro_sd_slot  screen_pixel_density  water_proof_rate  phone_width  \\\n",
              "0              4                     2                 3         67.8   \n",
              "1              4                     4                 6         64.0   \n",
              "2              4                     9                 6         72.0   \n",
              "3              4                     1                 3         75.1   \n",
              "4              4                     1                 6         91.0   \n",
              "\n",
              "   expandable_memory  version  usb_type  battery_capacity  processor_rank  \\\n",
              "0               64.0        5         3              2000             125   \n",
              "1               32.0        5         3              2000             165   \n",
              "2               32.0        6         3              2500             164   \n",
              "3               32.0        6         3              3000             165   \n",
              "4               32.0        6         3              3000             165   \n",
              "\n",
              "   is_liked  \n",
              "0         1  \n",
              "1         1  \n",
              "2         0  \n",
              "3         1  \n",
              "4         0  \n",
              "\n",
              "[5 rows x 40 columns]"
            ]
          },
          "metadata": {
            "tags": []
          },
          "execution_count": 6
        }
      ]
    },
    {
      "metadata": {
        "id": "e2NxeJo1UeeQ",
        "colab_type": "code",
        "colab": {
          "base_uri": "https://localhost:8080/",
          "height": 291
        },
        "outputId": "423a2501-9384-479a-d979-b304260fa1c3"
      },
      "cell_type": "code",
      "source": [
        "ax=sns.scatterplot(x=\"stand_by_time\",y=\"battery_capacity\",data=data)"
      ],
      "execution_count": 9,
      "outputs": [
        {
          "output_type": "display_data",
          "data": {
            "image/png": "[encoded data removed]",
            "text/plain": [
              "<Figure size 432x288 with 1 Axes>"
            ]
          },
          "metadata": {
            "tags": []
          }
        }
      ]
    },
    {
      "metadata": {
        "id": "E-pOq2SNiPpj",
        "colab_type": "code",
        "colab": {
          "base_uri": "https://localhost:8080/",
          "height": 291
        },
        "outputId": "48d5bc43-a53b-446c-cede-a9df1aeaa194"
      },
      "cell_type": "code",
      "source": [
        "ax=sns.scatterplot(x=\"stand_by_time\",y=\"battery_capacity\",hue=\"thickness\",data=data)"
      ],
      "execution_count": 10,
      "outputs": [
        {
          "output_type": "display_data",
          "data": {
            "image/png": "[encoded data removed]",
            "text/plain": [
              "<Figure size 432x288 with 1 Axes>"
            ]
          },
          "metadata": {
            "tags": []
          }
        }
      ]
    },
    {
      "metadata": {
        "id": "iBzfm0Y7jAUe",
        "colab_type": "code",
        "colab": {
          "base_uri": "https://localhost:8080/",
          "height": 291
        },
        "outputId": "15a37512-e119-4581-fd4e-92730fdb1944"
      },
      "cell_type": "code",
      "source": [
        "ax=sns.distplot(data[\"stand_by_time\"],kde=False,rug=True,bins=20)#histogram"
      ],
      "execution_count": 12,
      "outputs": [
        {
          "output_type": "display_data",
          "data": {
            "image/png": "[encoded data removed]",
            "text/plain": [
              "<Figure size 432x288 with 1 Axes>"
            ]
          },
          "metadata": {
            "tags": []
          }
        }
      ]
    },
    {
      "metadata": {
        "id": "5CJ8NNGIjUT8",
        "colab_type": "code",
        "colab": {
          "base_uri": "https://localhost:8080/",
          "height": 291
        },
        "outputId": "1381cd57-7b1e-446f-802e-81e90589671d"
      },
      "cell_type": "code",
      "source": [
        "ax=sns.boxplot(x=\"is_liked\",y=\"battery_capacity\",data=data)"
      ],
      "execution_count": 13,
      "outputs": [
        {
          "output_type": "display_data",
          "data": {
            "image/png": "[encoded data removed]",
            "text/plain": [
              "<Figure size 432x288 with 1 Axes>"
            ]
          },
          "metadata": {
            "tags": []
          }
        }
      ]
    },
    {
      "metadata": {
        "id": "ZnA_nfXZjq4n",
        "colab_type": "code",
        "colab": {
          "base_uri": "https://localhost:8080/",
          "height": 291
        },
        "outputId": "21eae938-5536-4e4a-a579-65520badb23e"
      },
      "cell_type": "code",
      "source": [
        "ax=sns.boxplot(x=\"expandable_memory\",y=\"price\",data=data)"
      ],
      "execution_count": 14,
      "outputs": [
        {
          "output_type": "display_data",
          "data": {
            "image/png": "[encoded data removed]",
            "text/plain": [
              "<Figure size 432x288 with 1 Axes>"
            ]
          },
          "metadata": {
            "tags": []
          }
        }
      ]
    },
    {
      "metadata": {
        "id": "beX1BuE7j9CL",
        "colab_type": "code",
        "colab": {
          "base_uri": "https://localhost:8080/",
          "height": 621
        },
        "outputId": "02bb271c-5114-4f5e-f34d-b8903b1a9aad"
      },
      "cell_type": "code",
      "source": [
        "import numpy as np\n",
        "uniform_data=np.random.rand(10,12)\n",
        "print(uniform_data)\n",
        "ax=sns.heatmap(uniform_data,cmap=\"YlGnBu\")"
      ],
      "execution_count": 18,
      "outputs": [
        {
          "output_type": "stream",
          "text": [
            "[[0.29291621 0.4100171  0.6196869  0.98954507 0.97606476 0.26543373\n",
            "  0.41698344 0.98465612 0.69330683 0.77571787 0.78747421 0.02222797]\n",
            " [0.74654953 0.21822132 0.75631232 0.62402436 0.71664925 0.71418831\n",
            "  0.56568725 0.33373153 0.66192613 0.95947961 0.62046664 0.13502039]\n",
            " [0.96348842 0.7936839  0.70337285 0.00251444 0.42689866 0.71633451\n",
            "  0.6152191  0.679731   0.2402985  0.16825997 0.93256613 0.18771514]\n",
            " [0.34588665 0.46020254 0.57128952 0.01314802 0.87991391 0.63829506\n",
            "  0.01717969 0.01983667 0.24067849 0.74720111 0.92441107 0.18802895]\n",
            " [0.37471927 0.68778763 0.00518669 0.20417046 0.61322081 0.0950708\n",
            "  0.24975652 0.41564455 0.96709186 0.87150278 0.24604361 0.81921843]\n",
            " [0.28990789 0.4186937  0.76048121 0.66523837 0.804846   0.28847224\n",
            "  0.75837349 0.10669226 0.98536394 0.18945571 0.83015083 0.9808358 ]\n",
            " [0.68703374 0.66730902 0.11322402 0.50611585 0.69082812 0.9454257\n",
            "  0.90560098 0.760462   0.52082693 0.68186785 0.39631829 0.42799388]\n",
            " [0.99622837 0.2392864  0.42215845 0.80713727 0.66817875 0.04269959\n",
            "  0.24772917 0.2170148  0.54757675 0.49541262 0.86915952 0.69596529]\n",
            " [0.97368643 0.12684653 0.89723137 0.40444371 0.74843897 0.27721965\n",
            "  0.59858454 0.2989451  0.77282485 0.51821055 0.459568   0.54529147]\n",
            " [0.98987076 0.97828064 0.56341312 0.09175809 0.76170989 0.01200601\n",
            "  0.47238149 0.78448658 0.89355689 0.35180678 0.07721585 0.50431675]]\n"
          ],
          "name": "stdout"
        },
        {
          "output_type": "display_data",
          "data": {
            "image/png": "[encoded data removed]",
            "text/plain": [
              "<Figure size 432x288 with 2 Axes>"
            ]
          },
          "metadata": {
            "tags": []
          }
        }
      ]
    },
    {
      "metadata": {
        "id": "xD-o-I15kGgZ",
        "colab_type": "code",
        "colab": {
          "base_uri": "https://localhost:8080/",
          "height": 228
        },
        "outputId": "b69979a9-b68d-4a45-9df1-622d42c16fa9"
      },
      "cell_type": "code",
      "source": [
        "!wget https://i.pinimg.com/564x/6a/8b/af/6a8bafd22de1b33e55180888eca4f0b7.jpg"
      ],
      "execution_count": 19,
      "outputs": [
        {
          "output_type": "stream",
          "text": [
            "--2019-02-02 19:00:29--  https://i.pinimg.com/564x/6a/8b/af/6a8bafd22de1b33e55180888eca4f0b7.jpg\n",
            "Resolving i.pinimg.com (i.pinimg.com)... 104.16.136.192, 104.16.137.192, 104.16.134.192, ...\n",
            "Connecting to i.pinimg.com (i.pinimg.com)|104.16.136.192|:443... connected.\n",
            "HTTP request sent, awaiting response... 200 OK\n",
            "Length: 18896 (18K) [image/jpeg]\n",
            "Saving to: ‘6a8bafd22de1b33e55180888eca4f0b7.jpg’\n",
            "\n",
            "\r          6a8bafd22   0%[                    ]       0  --.-KB/s               \r6a8bafd22de1b33e551 100%[===================>]  18.45K  --.-KB/s    in 0.001s  \n",
            "\n",
            "2019-02-02 19:00:29 (18.5 MB/s) - ‘6a8bafd22de1b33e55180888eca4f0b7.jpg’ saved [18896/18896]\n",
            "\n"
          ],
          "name": "stdout"
        }
      ]
    },
    {
      "metadata": {
        "id": "8HuxLRirlVyY",
        "colab_type": "code",
        "colab": {
          "base_uri": "https://localhost:8080/",
          "height": 52
        },
        "outputId": "d5fa92ee-e6b8-4eab-8efb-6912871044f6"
      },
      "cell_type": "code",
      "source": [
        "!ls"
      ],
      "execution_count": 20,
      "outputs": [
        {
          "output_type": "stream",
          "text": [
            "6a8bafd22de1b33e55180888eca4f0b7.jpg  mobile_cleaned.csv.1\n",
            "mobile_cleaned.csv\t\t      sample_data\n"
          ],
          "name": "stdout"
        }
      ]
    },
    {
      "metadata": {
        "id": "5WAXXYoqlZo-",
        "colab_type": "code",
        "colab": {}
      },
      "cell_type": "code",
      "source": [
        "!mv 6a8bafd22de1b33e55180888eca4f0b7.jpg chris.jpg"
      ],
      "execution_count": 0,
      "outputs": []
    },
    {
      "metadata": {
        "id": "6rt8HyRflg4h",
        "colab_type": "code",
        "colab": {
          "base_uri": "https://localhost:8080/",
          "height": 34
        },
        "outputId": "8510259a-b0f2-4d60-b446-309d950524dd"
      },
      "cell_type": "code",
      "source": [
        "!ls"
      ],
      "execution_count": 22,
      "outputs": [
        {
          "output_type": "stream",
          "text": [
            "chris.jpg  mobile_cleaned.csv  mobile_cleaned.csv.1  sample_data\n"
          ],
          "name": "stdout"
        }
      ]
    },
    {
      "metadata": {
        "id": "4TkaOt2UlikU",
        "colab_type": "code",
        "colab": {
          "base_uri": "https://localhost:8080/",
          "height": 868
        },
        "outputId": "f816f1c7-f19f-46a6-9a6f-e2914b6b6511"
      },
      "cell_type": "code",
      "source": [
        "import matplotlib.image as mpimg\n",
        "img=mpimg.imread(\"chris.jpg\")\n",
        "print(img)"
      ],
      "execution_count": 24,
      "outputs": [
        {
          "output_type": "stream",
          "text": [
            "[[[185 190 193]\n",
            "  [185 190 193]\n",
            "  [185 190 193]\n",
            "  ...\n",
            "  [196 202 202]\n",
            "  [196 202 202]\n",
            "  [196 202 202]]\n",
            "\n",
            " [[185 190 193]\n",
            "  [185 190 193]\n",
            "  [185 190 193]\n",
            "  ...\n",
            "  [196 202 202]\n",
            "  [196 202 202]\n",
            "  [196 202 202]]\n",
            "\n",
            " [[185 190 193]\n",
            "  [185 190 193]\n",
            "  [185 190 193]\n",
            "  ...\n",
            "  [196 202 202]\n",
            "  [196 202 202]\n",
            "  [196 202 202]]\n",
            "\n",
            " ...\n",
            "\n",
            " [[219 220 222]\n",
            "  [219 220 222]\n",
            "  [217 221 220]\n",
            "  ...\n",
            "  [137  99  80]\n",
            "  [135  97  78]\n",
            "  [134  96  77]]\n",
            "\n",
            " [[220 221 223]\n",
            "  [219 220 222]\n",
            "  [217 221 222]\n",
            "  ...\n",
            "  [131  93  74]\n",
            "  [128  90  71]\n",
            "  [127  89  70]]\n",
            "\n",
            " [[221 222 224]\n",
            "  [219 220 222]\n",
            "  [217 221 222]\n",
            "  ...\n",
            "  [127  89  70]\n",
            "  [125  87  68]\n",
            "  [127  89  70]]]\n"
          ],
          "name": "stdout"
        }
      ]
    },
    {
      "metadata": {
        "id": "zqY8t7BWloW3",
        "colab_type": "code",
        "colab": {
          "base_uri": "https://localhost:8080/",
          "height": 34
        },
        "outputId": "985f1e44-2498-48fe-8783-4ebca9e45524"
      },
      "cell_type": "code",
      "source": [
        "len(img)"
      ],
      "execution_count": 25,
      "outputs": [
        {
          "output_type": "execute_result",
          "data": {
            "text/plain": [
              "400"
            ]
          },
          "metadata": {
            "tags": []
          },
          "execution_count": 25
        }
      ]
    },
    {
      "metadata": {
        "id": "xclzFgVtl3wN",
        "colab_type": "code",
        "colab": {
          "base_uri": "https://localhost:8080/",
          "height": 274
        },
        "outputId": "9c46cea8-1264-46d3-ac3e-c0054d223cd8"
      },
      "cell_type": "code",
      "source": [
        "imgplot=plt.imshow(img)"
      ],
      "execution_count": 28,
      "outputs": [
        {
          "output_type": "display_data",
          "data": {
            "image/png": "[encoded data removed]",
            "text/plain": [
              "<Figure size 432x288 with 1 Axes>"
            ]
          },
          "metadata": {
            "tags": []
          }
        }
      ]
    },
    {
      "metadata": {
        "id": "cvaNwIQ6l7_y",
        "colab_type": "code",
        "colab": {}
      },
      "cell_type": "code",
      "source": [
        ""
      ],
      "execution_count": 0,
      "outputs": []
    }
  ]
}